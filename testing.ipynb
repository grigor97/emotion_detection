{
 "cells": [
  {
   "cell_type": "code",
   "execution_count": 1,
   "metadata": {},
   "outputs": [],
   "source": [
    "import os\n",
    "import sys\n",
    "import csv\n",
    "import re\n",
    "import math\n",
    "import pandas as pd\n",
    "import os\n",
    "import seaborn as sns\n",
    "from glob import glob\n",
    "import cv2\n",
    "# import pdb\n",
    "\n",
    "import librosa\n",
    "import os\n",
    "import soundfile as sf\n",
    "import numpy as np\n",
    "import matplotlib.pyplot as plt\n",
    "from matplotlib.backends.backend_agg import FigureCanvasAgg as FigureCanvas\n",
    "import matplotlib.style as ms\n",
    "from tqdm import tqdm\n",
    "import pickle\n",
    "\n",
    "from moviepy.editor import *\n",
    "\n",
    "import IPython.display\n",
    "import librosa.display\n",
    "ms.use('seaborn-muted')\n",
    "%matplotlib inline\n"
   ]
  },
  {
   "cell_type": "code",
   "execution_count": null,
   "metadata": {},
   "outputs": [],
   "source": []
  },
  {
   "cell_type": "code",
   "execution_count": null,
   "metadata": {},
   "outputs": [],
   "source": []
  },
  {
   "cell_type": "code",
   "execution_count": 2,
   "metadata": {},
   "outputs": [],
   "source": [
    "df_iemocap = pd.read_csv(\"../small_data/preprocessed_data/df_iemocap.csv\")"
   ]
  },
  {
   "cell_type": "code",
   "execution_count": 3,
   "metadata": {},
   "outputs": [
    {
     "data": {
      "text/html": [
       "<div>\n",
       "<style scoped>\n",
       "    .dataframe tbody tr th:only-of-type {\n",
       "        vertical-align: middle;\n",
       "    }\n",
       "\n",
       "    .dataframe tbody tr th {\n",
       "        vertical-align: top;\n",
       "    }\n",
       "\n",
       "    .dataframe thead th {\n",
       "        text-align: right;\n",
       "    }\n",
       "</style>\n",
       "<table border=\"1\" class=\"dataframe\">\n",
       "  <thead>\n",
       "    <tr style=\"text-align: right;\">\n",
       "      <th></th>\n",
       "      <th>start_time</th>\n",
       "      <th>end_time</th>\n",
       "      <th>file_path</th>\n",
       "      <th>emotion</th>\n",
       "      <th>session</th>\n",
       "      <th>sex</th>\n",
       "    </tr>\n",
       "  </thead>\n",
       "  <tbody>\n",
       "    <tr>\n",
       "      <th>0</th>\n",
       "      <td>6.2901</td>\n",
       "      <td>8.2357</td>\n",
       "      <td>/Users/grigorkeropyan/Desktop/YSU_thesis/small...</td>\n",
       "      <td>neu</td>\n",
       "      <td>0</td>\n",
       "      <td>F</td>\n",
       "    </tr>\n",
       "    <tr>\n",
       "      <th>1</th>\n",
       "      <td>10.0100</td>\n",
       "      <td>11.3925</td>\n",
       "      <td>/Users/grigorkeropyan/Desktop/YSU_thesis/small...</td>\n",
       "      <td>neu</td>\n",
       "      <td>0</td>\n",
       "      <td>F</td>\n",
       "    </tr>\n",
       "    <tr>\n",
       "      <th>2</th>\n",
       "      <td>14.8872</td>\n",
       "      <td>18.0175</td>\n",
       "      <td>/Users/grigorkeropyan/Desktop/YSU_thesis/small...</td>\n",
       "      <td>neu</td>\n",
       "      <td>0</td>\n",
       "      <td>F</td>\n",
       "    </tr>\n",
       "    <tr>\n",
       "      <th>3</th>\n",
       "      <td>19.2900</td>\n",
       "      <td>20.7875</td>\n",
       "      <td>/Users/grigorkeropyan/Desktop/YSU_thesis/small...</td>\n",
       "      <td>xxx</td>\n",
       "      <td>0</td>\n",
       "      <td>F</td>\n",
       "    </tr>\n",
       "    <tr>\n",
       "      <th>4</th>\n",
       "      <td>21.3257</td>\n",
       "      <td>24.7400</td>\n",
       "      <td>/Users/grigorkeropyan/Desktop/YSU_thesis/small...</td>\n",
       "      <td>xxx</td>\n",
       "      <td>0</td>\n",
       "      <td>F</td>\n",
       "    </tr>\n",
       "  </tbody>\n",
       "</table>\n",
       "</div>"
      ],
      "text/plain": [
       "   start_time  end_time                                          file_path  \\\n",
       "0      6.2901    8.2357  /Users/grigorkeropyan/Desktop/YSU_thesis/small...   \n",
       "1     10.0100   11.3925  /Users/grigorkeropyan/Desktop/YSU_thesis/small...   \n",
       "2     14.8872   18.0175  /Users/grigorkeropyan/Desktop/YSU_thesis/small...   \n",
       "3     19.2900   20.7875  /Users/grigorkeropyan/Desktop/YSU_thesis/small...   \n",
       "4     21.3257   24.7400  /Users/grigorkeropyan/Desktop/YSU_thesis/small...   \n",
       "\n",
       "  emotion  session sex  \n",
       "0     neu        0   F  \n",
       "1     neu        0   F  \n",
       "2     neu        0   F  \n",
       "3     xxx        0   F  \n",
       "4     xxx        0   F  "
      ]
     },
     "execution_count": 3,
     "metadata": {},
     "output_type": "execute_result"
    }
   ],
   "source": [
    "df_iemocap.head()"
   ]
  },
  {
   "cell_type": "code",
   "execution_count": 4,
   "metadata": {},
   "outputs": [
    {
     "data": {
      "text/plain": [
       "{'F', 'M'}"
      ]
     },
     "execution_count": 4,
     "metadata": {},
     "output_type": "execute_result"
    }
   ],
   "source": [
    "set(df_iemocap.sex)"
   ]
  },
  {
   "cell_type": "code",
   "execution_count": 5,
   "metadata": {},
   "outputs": [],
   "source": [
    "df_ravdess = pd.read_csv('../small_data/preprocessed_data/df_ravdess.csv')"
   ]
  },
  {
   "cell_type": "code",
   "execution_count": 6,
   "metadata": {},
   "outputs": [
    {
     "data": {
      "text/html": [
       "<div>\n",
       "<style scoped>\n",
       "    .dataframe tbody tr th:only-of-type {\n",
       "        vertical-align: middle;\n",
       "    }\n",
       "\n",
       "    .dataframe tbody tr th {\n",
       "        vertical-align: top;\n",
       "    }\n",
       "\n",
       "    .dataframe thead th {\n",
       "        text-align: right;\n",
       "    }\n",
       "</style>\n",
       "<table border=\"1\" class=\"dataframe\">\n",
       "  <thead>\n",
       "    <tr style=\"text-align: right;\">\n",
       "      <th></th>\n",
       "      <th>file_path</th>\n",
       "      <th>emotion</th>\n",
       "      <th>actor</th>\n",
       "      <th>sex</th>\n",
       "    </tr>\n",
       "  </thead>\n",
       "  <tbody>\n",
       "    <tr>\n",
       "      <th>0</th>\n",
       "      <td>/Users/grigorkeropyan/Desktop/YSU_thesis/small...</td>\n",
       "      <td>hap</td>\n",
       "      <td>10</td>\n",
       "      <td>F</td>\n",
       "    </tr>\n",
       "    <tr>\n",
       "      <th>1</th>\n",
       "      <td>/Users/grigorkeropyan/Desktop/YSU_thesis/small...</td>\n",
       "      <td>hap</td>\n",
       "      <td>10</td>\n",
       "      <td>F</td>\n",
       "    </tr>\n",
       "    <tr>\n",
       "      <th>2</th>\n",
       "      <td>/Users/grigorkeropyan/Desktop/YSU_thesis/small...</td>\n",
       "      <td>calm</td>\n",
       "      <td>10</td>\n",
       "      <td>F</td>\n",
       "    </tr>\n",
       "    <tr>\n",
       "      <th>3</th>\n",
       "      <td>/Users/grigorkeropyan/Desktop/YSU_thesis/small...</td>\n",
       "      <td>neu</td>\n",
       "      <td>10</td>\n",
       "      <td>F</td>\n",
       "    </tr>\n",
       "    <tr>\n",
       "      <th>4</th>\n",
       "      <td>/Users/grigorkeropyan/Desktop/YSU_thesis/small...</td>\n",
       "      <td>calm</td>\n",
       "      <td>10</td>\n",
       "      <td>F</td>\n",
       "    </tr>\n",
       "  </tbody>\n",
       "</table>\n",
       "</div>"
      ],
      "text/plain": [
       "                                           file_path emotion  actor sex\n",
       "0  /Users/grigorkeropyan/Desktop/YSU_thesis/small...     hap     10   F\n",
       "1  /Users/grigorkeropyan/Desktop/YSU_thesis/small...     hap     10   F\n",
       "2  /Users/grigorkeropyan/Desktop/YSU_thesis/small...    calm     10   F\n",
       "3  /Users/grigorkeropyan/Desktop/YSU_thesis/small...     neu     10   F\n",
       "4  /Users/grigorkeropyan/Desktop/YSU_thesis/small...    calm     10   F"
      ]
     },
     "execution_count": 6,
     "metadata": {},
     "output_type": "execute_result"
    }
   ],
   "source": [
    "df_ravdess.head()"
   ]
  },
  {
   "cell_type": "code",
   "execution_count": null,
   "metadata": {},
   "outputs": [],
   "source": []
  },
  {
   "cell_type": "code",
   "execution_count": null,
   "metadata": {},
   "outputs": [],
   "source": [
    "df_enterface = pd.read_csv('../small_data/preprocessed_data/df_enterface.csv')"
   ]
  },
  {
   "cell_type": "code",
   "execution_count": null,
   "metadata": {},
   "outputs": [],
   "source": [
    "df_enterface.head()"
   ]
  },
  {
   "cell_type": "code",
   "execution_count": null,
   "metadata": {},
   "outputs": [],
   "source": [
    "df_iemocap.file_path[4]"
   ]
  },
  {
   "cell_type": "code",
   "execution_count": null,
   "metadata": {},
   "outputs": [],
   "source": [
    "df_ravdess.file_path[4]"
   ]
  },
  {
   "cell_type": "code",
   "execution_count": null,
   "metadata": {},
   "outputs": [],
   "source": [
    "df_enterface.file_path[4]"
   ]
  },
  {
   "cell_type": "code",
   "execution_count": null,
   "metadata": {},
   "outputs": [],
   "source": [
    "df_enterface.columns"
   ]
  },
  {
   "cell_type": "code",
   "execution_count": null,
   "metadata": {},
   "outputs": [],
   "source": [
    "# filtering and combining some emotions!\n",
    "current_emos = ['sad', 'neu', 'hap', 'ang', \n",
    "          'fru', 'exc', 'oth', 'dis', 'fea', 'sur']\n",
    "\n",
    "final_emos = ['sad', 'neu', 'hap', 'ang', 'fru', 'exc', 'oth']\n",
    "\n",
    "df_iemocap = df_iemocap.loc[df_iemocap.emotion.isin(current_emos)]\n",
    "df_enterface = df_enterface.loc[df_enterface.emotion.isin(current_emos)]\n",
    "df_ravdess = df_ravdess.loc[df_ravdess.emotion.isin(current_emos)]\n",
    "\n",
    "\n",
    "df_iemocap['emotion'] = df_iemocap['emotion'].replace({'sur': 'oth', 'fea': 'oth', 'dis': 'oth'})\n",
    "df_enterface['emotion'] = df_enterface['emotion'].replace({'sur': 'oth', 'fea': 'oth', 'dis': 'oth'})\n",
    "df_ravdess['emotion'] = df_ravdess['emotion'].replace({'sur': 'oth', 'fea': 'oth', 'dis': 'oth'})\n"
   ]
  },
  {
   "cell_type": "raw",
   "metadata": {},
   "source": []
  },
  {
   "cell_type": "code",
   "execution_count": null,
   "metadata": {},
   "outputs": [],
   "source": [
    "ems = {\n",
    "    'sad': 1491,\n",
    "    'dis': 409,\n",
    "    'neu': 1804,\n",
    "    'hap': 999,\n",
    "    'ang': 1510,\n",
    "    'fea': 447,\n",
    "    'sur': 514,\n",
    "    'calm': 192,\n",
    "    'fru': 1849,\n",
    "    'xxx': 2507,\n",
    "    'exc': 1041,\n",
    "    'oth': 3\n",
    "}\n",
    "sns.barplot(list(ems.keys()), np.array(list(ems.values()))*100/sum(list(ems.values())))"
   ]
  },
  {
   "cell_type": "code",
   "execution_count": null,
   "metadata": {},
   "outputs": [],
   "source": [
    "ems = {\n",
    "    'sad': 1491,\n",
    "    'dis': 409,\n",
    "    'neu': 1804,\n",
    "    'hap': 999,\n",
    "    'ang': 1510,\n",
    "    'fea': 447,\n",
    "    'sur': 514,\n",
    "#     'calm': 192,\n",
    "    'fru': 1849,\n",
    "#     'xxx': 2507,\n",
    "    'exc': 1041,\n",
    "#     'oth': 3\n",
    "}\n",
    "sns.barplot(list(ems.keys()), np.array(list(ems.values()))*100/sum(list(ems.values())))"
   ]
  },
  {
   "cell_type": "code",
   "execution_count": 8,
   "metadata": {},
   "outputs": [
    {
     "data": {
      "text/plain": [
       "<matplotlib.axes._subplots.AxesSubplot at 0x7f9958085350>"
      ]
     },
     "execution_count": 8,
     "metadata": {},
     "output_type": "execute_result"
    },
    {
     "data": {
      "image/png": "[encoded data removed]",
      "text/plain": [
       "<Figure size 432x288 with 1 Axes>"
      ]
     },
     "metadata": {
      "needs_background": "light"
     },
     "output_type": "display_data"
    }
   ],
   "source": [
    "ems = {\n",
    "    'sad': 1491,\n",
    "#     'dis': 409,\n",
    "    'neu': 1804,\n",
    "    'hap': 999,\n",
    "    'ang': 1510,\n",
    "#     'fea': 447,\n",
    "#     'sur': 514,\n",
    "    'fru': 1849,\n",
    "    'exc': 1041,\n",
    "    'other': 3 + 514 + 447 + 409\n",
    "}\n",
    "sns.barplot(list(ems.keys()), np.array(list(ems.values()))*100/sum(list(ems.values())))"
   ]
  },
  {
   "cell_type": "code",
   "execution_count": null,
   "metadata": {},
   "outputs": [],
   "source": []
  },
  {
   "cell_type": "code",
   "execution_count": null,
   "metadata": {},
   "outputs": [],
   "source": [
    "for i in range(int(length//3)):\n",
    "    vi = vid.subclip(3*i, 3*i + 3)\n",
    "    vi.write_videofile(\"v\" + str(i) + \".mp4\",\n",
    "                    codec='libx264',\n",
    "                    audio_codec='aac',\n",
    "                    temp_audiofile='temp-audio.m4a',\n",
    "                    remove_temp=True)\n",
    "if length > 3*int(length//3) + 0.9:\n",
    "    vi = vid.subclip(3*int(length//3))\n",
    "    vi.write_videofile(\"v\" + \".mp4\",\n",
    "                        codec='libx264',\n",
    "                        audio_codec='aac',\n",
    "                        temp_audiofile='temp-audio.m4a',\n",
    "                        remove_temp=True)"
   ]
  },
  {
   "cell_type": "code",
   "execution_count": null,
   "metadata": {},
   "outputs": [],
   "source": [
    "def get_three_sec_videos(video_path, save_folder_path, save_name):\n",
    "    vid = VideoFileClip(video_path)\n",
    "    length = vid.duration\n",
    "    \n",
    "    for i in range(int(length//3)):\n",
    "        vi = vid.subclip(3*i, 3*i + 3)\n",
    "        vi.write_videofile(save_name+ \"v\" + str(i) + \".mp4\",\n",
    "                        codec='libx264',\n",
    "                        audio_codec='aac',\n",
    "                        temp_audiofile='temp-audio.m4a',\n",
    "                        remove_temp=True)\n",
    "    if length > 3*int(length//3) + 0.9:\n",
    "        vi = vid.subclip(3*int(length//3))\n",
    "        vi.write_videofile(save_name + \"v\" + \".mp4\",\n",
    "                            codec='libx264',\n",
    "                            audio_codec='aac',\n",
    "                            temp_audiofile='temp-audio.m4a',\n",
    "                            remove_temp=True)"
   ]
  },
  {
   "cell_type": "code",
   "execution_count": null,
   "metadata": {},
   "outputs": [],
   "source": []
  },
  {
   "cell_type": "code",
   "execution_count": null,
   "metadata": {},
   "outputs": [],
   "source": []
  },
  {
   "cell_type": "code",
   "execution_count": null,
   "metadata": {},
   "outputs": [],
   "source": []
  },
  {
   "cell_type": "code",
   "execution_count": 4,
   "metadata": {},
   "outputs": [],
   "source": [
    "from preprocessing import *"
   ]
  },
  {
   "cell_type": "code",
   "execution_count": 5,
   "metadata": {},
   "outputs": [],
   "source": [
    "df = df_iemocap[['file_path', 'emotion']]"
   ]
  },
  {
   "cell_type": "code",
   "execution_count": 6,
   "metadata": {},
   "outputs": [
    {
     "data": {
      "text/html": [
       "<div>\n",
       "<style scoped>\n",
       "    .dataframe tbody tr th:only-of-type {\n",
       "        vertical-align: middle;\n",
       "    }\n",
       "\n",
       "    .dataframe tbody tr th {\n",
       "        vertical-align: top;\n",
       "    }\n",
       "\n",
       "    .dataframe thead th {\n",
       "        text-align: right;\n",
       "    }\n",
       "</style>\n",
       "<table border=\"1\" class=\"dataframe\">\n",
       "  <thead>\n",
       "    <tr style=\"text-align: right;\">\n",
       "      <th></th>\n",
       "      <th>file_path</th>\n",
       "      <th>emotion</th>\n",
       "    </tr>\n",
       "  </thead>\n",
       "  <tbody>\n",
       "    <tr>\n",
       "      <th>0</th>\n",
       "      <td>/Users/grigorkeropyan/Desktop/YSU_thesis/small...</td>\n",
       "      <td>neu</td>\n",
       "    </tr>\n",
       "    <tr>\n",
       "      <th>1</th>\n",
       "      <td>/Users/grigorkeropyan/Desktop/YSU_thesis/small...</td>\n",
       "      <td>neu</td>\n",
       "    </tr>\n",
       "    <tr>\n",
       "      <th>2</th>\n",
       "      <td>/Users/grigorkeropyan/Desktop/YSU_thesis/small...</td>\n",
       "      <td>neu</td>\n",
       "    </tr>\n",
       "    <tr>\n",
       "      <th>3</th>\n",
       "      <td>/Users/grigorkeropyan/Desktop/YSU_thesis/small...</td>\n",
       "      <td>xxx</td>\n",
       "    </tr>\n",
       "    <tr>\n",
       "      <th>4</th>\n",
       "      <td>/Users/grigorkeropyan/Desktop/YSU_thesis/small...</td>\n",
       "      <td>xxx</td>\n",
       "    </tr>\n",
       "    <tr>\n",
       "      <th>...</th>\n",
       "      <td>...</td>\n",
       "      <td>...</td>\n",
       "    </tr>\n",
       "    <tr>\n",
       "      <th>97</th>\n",
       "      <td>/Users/grigorkeropyan/Desktop/YSU_thesis/small...</td>\n",
       "      <td>exc</td>\n",
       "    </tr>\n",
       "    <tr>\n",
       "      <th>98</th>\n",
       "      <td>/Users/grigorkeropyan/Desktop/YSU_thesis/small...</td>\n",
       "      <td>exc</td>\n",
       "    </tr>\n",
       "    <tr>\n",
       "      <th>99</th>\n",
       "      <td>/Users/grigorkeropyan/Desktop/YSU_thesis/small...</td>\n",
       "      <td>exc</td>\n",
       "    </tr>\n",
       "    <tr>\n",
       "      <th>100</th>\n",
       "      <td>/Users/grigorkeropyan/Desktop/YSU_thesis/small...</td>\n",
       "      <td>exc</td>\n",
       "    </tr>\n",
       "    <tr>\n",
       "      <th>101</th>\n",
       "      <td>/Users/grigorkeropyan/Desktop/YSU_thesis/small...</td>\n",
       "      <td>exc</td>\n",
       "    </tr>\n",
       "  </tbody>\n",
       "</table>\n",
       "<p>102 rows × 2 columns</p>\n",
       "</div>"
      ],
      "text/plain": [
       "                                             file_path emotion\n",
       "0    /Users/grigorkeropyan/Desktop/YSU_thesis/small...     neu\n",
       "1    /Users/grigorkeropyan/Desktop/YSU_thesis/small...     neu\n",
       "2    /Users/grigorkeropyan/Desktop/YSU_thesis/small...     neu\n",
       "3    /Users/grigorkeropyan/Desktop/YSU_thesis/small...     xxx\n",
       "4    /Users/grigorkeropyan/Desktop/YSU_thesis/small...     xxx\n",
       "..                                                 ...     ...\n",
       "97   /Users/grigorkeropyan/Desktop/YSU_thesis/small...     exc\n",
       "98   /Users/grigorkeropyan/Desktop/YSU_thesis/small...     exc\n",
       "99   /Users/grigorkeropyan/Desktop/YSU_thesis/small...     exc\n",
       "100  /Users/grigorkeropyan/Desktop/YSU_thesis/small...     exc\n",
       "101  /Users/grigorkeropyan/Desktop/YSU_thesis/small...     exc\n",
       "\n",
       "[102 rows x 2 columns]"
      ]
     },
     "execution_count": 6,
     "metadata": {},
     "output_type": "execute_result"
    }
   ],
   "source": [
    "df"
   ]
  },
  {
   "cell_type": "code",
   "execution_count": 7,
   "metadata": {},
   "outputs": [],
   "source": [
    "save_data_path = '/Users/grigorkeropyan/Desktop/YSU_thesis/all_data/'\n"
   ]
  },
  {
   "cell_type": "code",
   "execution_count": 8,
   "metadata": {},
   "outputs": [
    {
     "data": {
      "text/plain": [
       "'/Users/grigorkeropyan/Desktop/YSU_thesis/small_data/IEMOCAP_full_release/Session1/sentences_video_audio/Ses01F_impro01/Ses01F_impro01_F001.mp4'"
      ]
     },
     "execution_count": 8,
     "metadata": {},
     "output_type": "execute_result"
    }
   ],
   "source": [
    "df.file_path[1]"
   ]
  },
  {
   "cell_type": "code",
   "execution_count": 9,
   "metadata": {},
   "outputs": [
    {
     "name": "stderr",
     "output_type": "stream",
     "text": [
      "                                                       "
     ]
    },
    {
     "name": "stdout",
     "output_type": "stream",
     "text": [
      "Moviepy - Building video /Users/grigorkeropyan/Desktop/YSU_thesis/all_data/Ses01F_impro01_F001_0/Ses01F_impro01_F001_0.mp4.\n",
      "MoviePy - Writing audio in temp-audio.m4a\n",
      "MoviePy - Done.\n",
      "Moviepy - Writing video /Users/grigorkeropyan/Desktop/YSU_thesis/all_data/Ses01F_impro01_F001_0/Ses01F_impro01_F001_0.mp4\n",
      "\n"
     ]
    },
    {
     "name": "stderr",
     "output_type": "stream",
     "text": [
      "                                                       \r"
     ]
    },
    {
     "name": "stdout",
     "output_type": "stream",
     "text": [
      "Moviepy - Done !\n",
      "Moviepy - video ready /Users/grigorkeropyan/Desktop/YSU_thesis/all_data/Ses01F_impro01_F001_0/Ses01F_impro01_F001_0.mp4\n",
      "MoviePy - Writing audio in /Users/grigorkeropyan/Desktop/YSU_thesis/all_data/Ses01F_impro01_F001_0/Ses01F_impro01_F001_0.wav\n",
      "MoviePy - Done.\n",
      "43\n",
      "29.97\n",
      "Frame shape Before resize (480, 720, 3)\n",
      "After (240, 360, 3)\n",
      "Frame shape Before resize (480, 720, 3)\n",
      "After (240, 360, 3)\n",
      "Frame shape Before resize (480, 720, 3)\n",
      "After (240, 360, 3)\n",
      "Frame shape Before resize (480, 720, 3)\n",
      "After (240, 360, 3)\n",
      "Frame shape Before resize (480, 720, 3)\n",
      "After (240, 360, 3)\n",
      "Frame shape Before resize (480, 720, 3)\n",
      "After (240, 360, 3)\n",
      "Frame shape Before resize (480, 720, 3)\n",
      "After (240, 360, 3)\n",
      "Frame shape Before resize (480, 720, 3)\n",
      "After (240, 360, 3)\n",
      "Frame shape Before resize (480, 720, 3)\n",
      "After (240, 360, 3)\n",
      "Frame shape Before resize (480, 720, 3)\n",
      "After (240, 360, 3)\n",
      "Frame shape Before resize (480, 720, 3)\n",
      "After (240, 360, 3)\n",
      "Frame shape Before resize (480, 720, 3)\n",
      "After (240, 360, 3)\n",
      "Frame shape Before resize (480, 720, 3)\n",
      "After (240, 360, 3)\n",
      "Frame shape Before resize (480, 720, 3)\n",
      "After (240, 360, 3)\n",
      "Frame shape Before resize (480, 720, 3)\n",
      "After (240, 360, 3)\n",
      "Frame shape Before resize (480, 720, 3)\n",
      "After (240, 360, 3)\n",
      "Frame shape Before resize (480, 720, 3)\n",
      "After (240, 360, 3)\n",
      "Frame shape Before resize (480, 720, 3)\n",
      "After (240, 360, 3)\n",
      "Frame shape Before resize (480, 720, 3)\n",
      "After (240, 360, 3)\n",
      "Frame shape Before resize (480, 720, 3)\n",
      "After (240, 360, 3)\n",
      "Done!\n"
     ]
    }
   ],
   "source": [
    "dd = prepare_whole_data(df.iloc[1:2], save_data_path, 'fff.csv')"
   ]
  },
  {
   "cell_type": "code",
   "execution_count": 26,
   "metadata": {},
   "outputs": [
    {
     "data": {
      "text/html": [
       "<div>\n",
       "<style scoped>\n",
       "    .dataframe tbody tr th:only-of-type {\n",
       "        vertical-align: middle;\n",
       "    }\n",
       "\n",
       "    .dataframe tbody tr th {\n",
       "        vertical-align: top;\n",
       "    }\n",
       "\n",
       "    .dataframe thead th {\n",
       "        text-align: right;\n",
       "    }\n",
       "</style>\n",
       "<table border=\"1\" class=\"dataframe\">\n",
       "  <thead>\n",
       "    <tr style=\"text-align: right;\">\n",
       "      <th></th>\n",
       "      <th>pic_paths</th>\n",
       "      <th>npy_paths</th>\n",
       "      <th>emotion</th>\n",
       "    </tr>\n",
       "  </thead>\n",
       "  <tbody>\n",
       "    <tr>\n",
       "      <th>0</th>\n",
       "      <td>/Users/grigorkeropyan/Desktop/YSU_thesis/all_d...</td>\n",
       "      <td>/Users/grigorkeropyan/Desktop/YSU_thesis/all_d...</td>\n",
       "      <td>neu</td>\n",
       "    </tr>\n",
       "  </tbody>\n",
       "</table>\n",
       "</div>"
      ],
      "text/plain": [
       "                                           pic_paths  \\\n",
       "0  /Users/grigorkeropyan/Desktop/YSU_thesis/all_d...   \n",
       "\n",
       "                                           npy_paths emotion  \n",
       "0  /Users/grigorkeropyan/Desktop/YSU_thesis/all_d...     neu  "
      ]
     },
     "execution_count": 26,
     "metadata": {},
     "output_type": "execute_result"
    }
   ],
   "source": [
    "dd"
   ]
  },
  {
   "cell_type": "code",
   "execution_count": 13,
   "metadata": {},
   "outputs": [],
   "source": [
    "aa = VideoFileClip(df_iemocap.file_path[4])"
   ]
  },
  {
   "cell_type": "code",
   "execution_count": 17,
   "metadata": {},
   "outputs": [
    {
     "name": "stderr",
     "output_type": "stream",
     "text": [
      "                                                       "
     ]
    },
    {
     "name": "stdout",
     "output_type": "stream",
     "text": [
      "MoviePy - Writing audio in aaa.wav\n",
      "MoviePy - Done.\n"
     ]
    },
    {
     "name": "stderr",
     "output_type": "stream",
     "text": [
      "\r"
     ]
    }
   ],
   "source": [
    "aa.audio.write_audiofile('aaa.wav')"
   ]
  },
  {
   "cell_type": "code",
   "execution_count": 16,
   "metadata": {},
   "outputs": [
    {
     "name": "stdout",
     "output_type": "stream",
     "text": [
      "README.md                 extracting_video_paths.py run.py\r\n",
      "\u001b[1m\u001b[36m__pycache__\u001b[m\u001b[m               helpful_codes.ipynb       testing.ipynb\r\n",
      "\u001b[1m\u001b[36mdocs\u001b[m\u001b[m                      preprocessing.py\r\n"
     ]
    }
   ],
   "source": [
    "!ls"
   ]
  },
  {
   "cell_type": "code",
   "execution_count": 18,
   "metadata": {},
   "outputs": [],
   "source": [
    "path = df_iemocap.file_path[4]"
   ]
  },
  {
   "cell_type": "code",
   "execution_count": 19,
   "metadata": {},
   "outputs": [
    {
     "data": {
      "text/plain": [
       "'/Users/grigorkeropyan/Desktop/YSU_thesis/small_data/IEMOCAP_full_release/Session1/sentences_video_audio/Ses01F_impro01/Ses01F_impro01_F004.mp4'"
      ]
     },
     "execution_count": 19,
     "metadata": {},
     "output_type": "execute_result"
    }
   ],
   "source": [
    "path"
   ]
  },
  {
   "cell_type": "code",
   "execution_count": 20,
   "metadata": {},
   "outputs": [],
   "source": [
    "import subprocess"
   ]
  },
  {
   "cell_type": "code",
   "execution_count": 21,
   "metadata": {},
   "outputs": [
    {
     "data": {
      "text/plain": [
       "127"
      ]
     },
     "execution_count": 21,
     "metadata": {},
     "output_type": "execute_result"
    }
   ],
   "source": [
    "command = \"ffmpeg -i \" + path + \" -ab 160k -ac 2 -ar 44100 -vn audio.wav\"\n",
    "\n",
    "subprocess.call(command, shell=True)"
   ]
  },
  {
   "cell_type": "code",
   "execution_count": 22,
   "metadata": {},
   "outputs": [
    {
     "name": "stdout",
     "output_type": "stream",
     "text": [
      "README.md                 extracting_video_paths.py run.py\r\n",
      "\u001b[1m\u001b[36m__pycache__\u001b[m\u001b[m               helpful_codes.ipynb       testing.ipynb\r\n",
      "\u001b[1m\u001b[36mdocs\u001b[m\u001b[m                      preprocessing.py\r\n"
     ]
    }
   ],
   "source": [
    "!ls"
   ]
  },
  {
   "cell_type": "code",
   "execution_count": null,
   "metadata": {},
   "outputs": [],
   "source": []
  }
 ],
 "metadata": {
  "kernelspec": {
   "display_name": "ml1",
   "language": "python",
   "name": "ml1"
  },
  "language_info": {
   "codemirror_mode": {
    "name": "ipython",
    "version": 3
   },
   "file_extension": ".py",
   "mimetype": "text/x-python",
   "name": "python",
   "nbconvert_exporter": "python",
   "pygments_lexer": "ipython3",
   "version": "3.7.7"
  }
 },
 "nbformat": 4,
 "nbformat_minor": 4
}
