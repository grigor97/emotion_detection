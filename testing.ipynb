{
 "cells": [
  {
   "cell_type": "code",
   "execution_count": 120,
   "metadata": {},
   "outputs": [],
   "source": [
    "import os\n",
    "import sys\n",
    "import csv\n",
    "import re\n",
    "import math\n",
    "import pandas as pd\n",
    "import os\n",
    "import seaborn as sns\n",
    "from glob import glob\n",
    "# import pdb\n",
    "\n",
    "import librosa\n",
    "import os\n",
    "import soundfile as sf\n",
    "import numpy as np\n",
    "import matplotlib.pyplot as plt\n",
    "from matplotlib.backends.backend_agg import FigureCanvasAgg as FigureCanvas\n",
    "import matplotlib.style as ms\n",
    "from tqdm import tqdm\n",
    "import pickle\n",
    "\n",
    "from moviepy.editor import *\n",
    "\n",
    "import IPython.display\n",
    "import librosa.display\n",
    "ms.use('seaborn-muted')\n",
    "%matplotlib inline\n"
   ]
  },
  {
   "cell_type": "code",
   "execution_count": null,
   "metadata": {},
   "outputs": [],
   "source": []
  },
  {
   "cell_type": "code",
   "execution_count": null,
   "metadata": {},
   "outputs": [],
   "source": []
  },
  {
   "cell_type": "code",
   "execution_count": 151,
   "metadata": {},
   "outputs": [],
   "source": [
    "df_iemocap = pd.read_csv(\"../small_data/preprocessed_data/df_iemocap.csv\")"
   ]
  },
  {
   "cell_type": "code",
   "execution_count": 152,
   "metadata": {},
   "outputs": [
    {
     "data": {
      "text/html": [
       "<div>\n",
       "<style scoped>\n",
       "    .dataframe tbody tr th:only-of-type {\n",
       "        vertical-align: middle;\n",
       "    }\n",
       "\n",
       "    .dataframe tbody tr th {\n",
       "        vertical-align: top;\n",
       "    }\n",
       "\n",
       "    .dataframe thead th {\n",
       "        text-align: right;\n",
       "    }\n",
       "</style>\n",
       "<table border=\"1\" class=\"dataframe\">\n",
       "  <thead>\n",
       "    <tr style=\"text-align: right;\">\n",
       "      <th></th>\n",
       "      <th>start_time</th>\n",
       "      <th>end_time</th>\n",
       "      <th>file_path</th>\n",
       "      <th>emotion</th>\n",
       "      <th>session</th>\n",
       "      <th>sex</th>\n",
       "    </tr>\n",
       "  </thead>\n",
       "  <tbody>\n",
       "    <tr>\n",
       "      <th>0</th>\n",
       "      <td>6.2901</td>\n",
       "      <td>8.2357</td>\n",
       "      <td>/Users/grigorkeropyan/Desktop/YSU_thesis/small...</td>\n",
       "      <td>neu</td>\n",
       "      <td>0</td>\n",
       "      <td>F</td>\n",
       "    </tr>\n",
       "    <tr>\n",
       "      <th>1</th>\n",
       "      <td>10.0100</td>\n",
       "      <td>11.3925</td>\n",
       "      <td>/Users/grigorkeropyan/Desktop/YSU_thesis/small...</td>\n",
       "      <td>neu</td>\n",
       "      <td>0</td>\n",
       "      <td>F</td>\n",
       "    </tr>\n",
       "    <tr>\n",
       "      <th>2</th>\n",
       "      <td>14.8872</td>\n",
       "      <td>18.0175</td>\n",
       "      <td>/Users/grigorkeropyan/Desktop/YSU_thesis/small...</td>\n",
       "      <td>neu</td>\n",
       "      <td>0</td>\n",
       "      <td>F</td>\n",
       "    </tr>\n",
       "    <tr>\n",
       "      <th>3</th>\n",
       "      <td>19.2900</td>\n",
       "      <td>20.7875</td>\n",
       "      <td>/Users/grigorkeropyan/Desktop/YSU_thesis/small...</td>\n",
       "      <td>xxx</td>\n",
       "      <td>0</td>\n",
       "      <td>F</td>\n",
       "    </tr>\n",
       "    <tr>\n",
       "      <th>4</th>\n",
       "      <td>21.3257</td>\n",
       "      <td>24.7400</td>\n",
       "      <td>/Users/grigorkeropyan/Desktop/YSU_thesis/small...</td>\n",
       "      <td>xxx</td>\n",
       "      <td>0</td>\n",
       "      <td>F</td>\n",
       "    </tr>\n",
       "  </tbody>\n",
       "</table>\n",
       "</div>"
      ],
      "text/plain": [
       "   start_time  end_time                                          file_path  \\\n",
       "0      6.2901    8.2357  /Users/grigorkeropyan/Desktop/YSU_thesis/small...   \n",
       "1     10.0100   11.3925  /Users/grigorkeropyan/Desktop/YSU_thesis/small...   \n",
       "2     14.8872   18.0175  /Users/grigorkeropyan/Desktop/YSU_thesis/small...   \n",
       "3     19.2900   20.7875  /Users/grigorkeropyan/Desktop/YSU_thesis/small...   \n",
       "4     21.3257   24.7400  /Users/grigorkeropyan/Desktop/YSU_thesis/small...   \n",
       "\n",
       "  emotion  session sex  \n",
       "0     neu        0   F  \n",
       "1     neu        0   F  \n",
       "2     neu        0   F  \n",
       "3     xxx        0   F  \n",
       "4     xxx        0   F  "
      ]
     },
     "execution_count": 152,
     "metadata": {},
     "output_type": "execute_result"
    }
   ],
   "source": [
    "df_iemocap.head()"
   ]
  },
  {
   "cell_type": "code",
   "execution_count": 155,
   "metadata": {},
   "outputs": [
    {
     "data": {
      "text/plain": [
       "{'F', 'M'}"
      ]
     },
     "execution_count": 155,
     "metadata": {},
     "output_type": "execute_result"
    }
   ],
   "source": [
    "set(df_iemocap.sex)"
   ]
  },
  {
   "cell_type": "code",
   "execution_count": 159,
   "metadata": {},
   "outputs": [],
   "source": [
    "df_ravdess = pd.read_csv('../small_data/preprocessed_data/df_ravdess.csv')"
   ]
  },
  {
   "cell_type": "code",
   "execution_count": 160,
   "metadata": {},
   "outputs": [
    {
     "data": {
      "text/html": [
       "<div>\n",
       "<style scoped>\n",
       "    .dataframe tbody tr th:only-of-type {\n",
       "        vertical-align: middle;\n",
       "    }\n",
       "\n",
       "    .dataframe tbody tr th {\n",
       "        vertical-align: top;\n",
       "    }\n",
       "\n",
       "    .dataframe thead th {\n",
       "        text-align: right;\n",
       "    }\n",
       "</style>\n",
       "<table border=\"1\" class=\"dataframe\">\n",
       "  <thead>\n",
       "    <tr style=\"text-align: right;\">\n",
       "      <th></th>\n",
       "      <th>file_path</th>\n",
       "      <th>emotion</th>\n",
       "      <th>actor</th>\n",
       "      <th>sex</th>\n",
       "    </tr>\n",
       "  </thead>\n",
       "  <tbody>\n",
       "    <tr>\n",
       "      <th>0</th>\n",
       "      <td>/Users/grigorkeropyan/Desktop/YSU_thesis/small...</td>\n",
       "      <td>hap</td>\n",
       "      <td>10</td>\n",
       "      <td>F</td>\n",
       "    </tr>\n",
       "    <tr>\n",
       "      <th>1</th>\n",
       "      <td>/Users/grigorkeropyan/Desktop/YSU_thesis/small...</td>\n",
       "      <td>hap</td>\n",
       "      <td>10</td>\n",
       "      <td>F</td>\n",
       "    </tr>\n",
       "    <tr>\n",
       "      <th>2</th>\n",
       "      <td>/Users/grigorkeropyan/Desktop/YSU_thesis/small...</td>\n",
       "      <td>calm</td>\n",
       "      <td>10</td>\n",
       "      <td>F</td>\n",
       "    </tr>\n",
       "    <tr>\n",
       "      <th>3</th>\n",
       "      <td>/Users/grigorkeropyan/Desktop/YSU_thesis/small...</td>\n",
       "      <td>neu</td>\n",
       "      <td>10</td>\n",
       "      <td>F</td>\n",
       "    </tr>\n",
       "    <tr>\n",
       "      <th>4</th>\n",
       "      <td>/Users/grigorkeropyan/Desktop/YSU_thesis/small...</td>\n",
       "      <td>calm</td>\n",
       "      <td>10</td>\n",
       "      <td>F</td>\n",
       "    </tr>\n",
       "  </tbody>\n",
       "</table>\n",
       "</div>"
      ],
      "text/plain": [
       "                                           file_path emotion  actor sex\n",
       "0  /Users/grigorkeropyan/Desktop/YSU_thesis/small...     hap     10   F\n",
       "1  /Users/grigorkeropyan/Desktop/YSU_thesis/small...     hap     10   F\n",
       "2  /Users/grigorkeropyan/Desktop/YSU_thesis/small...    calm     10   F\n",
       "3  /Users/grigorkeropyan/Desktop/YSU_thesis/small...     neu     10   F\n",
       "4  /Users/grigorkeropyan/Desktop/YSU_thesis/small...    calm     10   F"
      ]
     },
     "execution_count": 160,
     "metadata": {},
     "output_type": "execute_result"
    }
   ],
   "source": [
    "df_ravdess.head()"
   ]
  },
  {
   "cell_type": "code",
   "execution_count": null,
   "metadata": {},
   "outputs": [],
   "source": []
  },
  {
   "cell_type": "code",
   "execution_count": 163,
   "metadata": {},
   "outputs": [],
   "source": [
    "df_enterface = pd.read_csv('../small_data/preprocessed_data/df_enterface.csv')"
   ]
  },
  {
   "cell_type": "code",
   "execution_count": 164,
   "metadata": {},
   "outputs": [
    {
     "data": {
      "text/html": [
       "<div>\n",
       "<style scoped>\n",
       "    .dataframe tbody tr th:only-of-type {\n",
       "        vertical-align: middle;\n",
       "    }\n",
       "\n",
       "    .dataframe tbody tr th {\n",
       "        vertical-align: top;\n",
       "    }\n",
       "\n",
       "    .dataframe thead th {\n",
       "        text-align: right;\n",
       "    }\n",
       "</style>\n",
       "<table border=\"1\" class=\"dataframe\">\n",
       "  <thead>\n",
       "    <tr style=\"text-align: right;\">\n",
       "      <th></th>\n",
       "      <th>file_path</th>\n",
       "      <th>emotion</th>\n",
       "      <th>subject</th>\n",
       "    </tr>\n",
       "  </thead>\n",
       "  <tbody>\n",
       "    <tr>\n",
       "      <th>0</th>\n",
       "      <td>/Users/grigorkeropyan/Desktop/YSU_thesis/small...</td>\n",
       "      <td>fea</td>\n",
       "      <td>2</td>\n",
       "    </tr>\n",
       "    <tr>\n",
       "      <th>1</th>\n",
       "      <td>/Users/grigorkeropyan/Desktop/YSU_thesis/small...</td>\n",
       "      <td>fea</td>\n",
       "      <td>2</td>\n",
       "    </tr>\n",
       "    <tr>\n",
       "      <th>2</th>\n",
       "      <td>/Users/grigorkeropyan/Desktop/YSU_thesis/small...</td>\n",
       "      <td>fea</td>\n",
       "      <td>2</td>\n",
       "    </tr>\n",
       "    <tr>\n",
       "      <th>3</th>\n",
       "      <td>/Users/grigorkeropyan/Desktop/YSU_thesis/small...</td>\n",
       "      <td>fea</td>\n",
       "      <td>2</td>\n",
       "    </tr>\n",
       "    <tr>\n",
       "      <th>4</th>\n",
       "      <td>/Users/grigorkeropyan/Desktop/YSU_thesis/small...</td>\n",
       "      <td>fea</td>\n",
       "      <td>2</td>\n",
       "    </tr>\n",
       "  </tbody>\n",
       "</table>\n",
       "</div>"
      ],
      "text/plain": [
       "                                           file_path emotion  subject\n",
       "0  /Users/grigorkeropyan/Desktop/YSU_thesis/small...     fea        2\n",
       "1  /Users/grigorkeropyan/Desktop/YSU_thesis/small...     fea        2\n",
       "2  /Users/grigorkeropyan/Desktop/YSU_thesis/small...     fea        2\n",
       "3  /Users/grigorkeropyan/Desktop/YSU_thesis/small...     fea        2\n",
       "4  /Users/grigorkeropyan/Desktop/YSU_thesis/small...     fea        2"
      ]
     },
     "execution_count": 164,
     "metadata": {},
     "output_type": "execute_result"
    }
   ],
   "source": [
    "df_enterface.head()"
   ]
  },
  {
   "cell_type": "code",
   "execution_count": 167,
   "metadata": {},
   "outputs": [
    {
     "data": {
      "text/plain": [
       "'/Users/grigorkeropyan/Desktop/YSU_thesis/small_data/IEMOCAP_full_release/Session1/sentences_video_audio/Ses01F_impro01/Ses01F_impro01_F004.mp4'"
      ]
     },
     "execution_count": 167,
     "metadata": {},
     "output_type": "execute_result"
    }
   ],
   "source": [
    "df_iemocap.file_path[4]"
   ]
  },
  {
   "cell_type": "code",
   "execution_count": 168,
   "metadata": {},
   "outputs": [
    {
     "data": {
      "text/plain": [
       "'/Users/grigorkeropyan/Desktop/YSU_thesis/small_data/RAVDESS/Actor_10/01-01-02-01-02-02-10.mp4'"
      ]
     },
     "execution_count": 168,
     "metadata": {},
     "output_type": "execute_result"
    }
   ],
   "source": [
    "df_ravdess.file_path[4]"
   ]
  },
  {
   "cell_type": "code",
   "execution_count": 169,
   "metadata": {},
   "outputs": [
    {
     "data": {
      "text/plain": [
       "'/Users/grigorkeropyan/Desktop/YSU_thesis/small_data/enterface_database/subject 2/fear/sentence 3/s2_fe_3.avi'"
      ]
     },
     "execution_count": 169,
     "metadata": {},
     "output_type": "execute_result"
    }
   ],
   "source": [
    "df_enterface.file_path[4]"
   ]
  },
  {
   "cell_type": "code",
   "execution_count": null,
   "metadata": {},
   "outputs": [],
   "source": []
  },
  {
   "cell_type": "code",
   "execution_count": null,
   "metadata": {},
   "outputs": [],
   "source": []
  },
  {
   "cell_type": "code",
   "execution_count": 130,
   "metadata": {},
   "outputs": [
    {
     "data": {
      "text/plain": [
       "<matplotlib.axes._subplots.AxesSubplot at 0x7fbaf68064d0>"
      ]
     },
     "execution_count": 130,
     "metadata": {},
     "output_type": "execute_result"
    },
    {
     "data": {
      "image/png": "[encoded data removed]",
      "text/plain": [
       "<Figure size 432x288 with 1 Axes>"
      ]
     },
     "metadata": {
      "needs_background": "light"
     },
     "output_type": "display_data"
    }
   ],
   "source": [
    "ems = {\n",
    "    'sad': 1491,\n",
    "    'dis': 409,\n",
    "    'neu': 1804,\n",
    "    'hap': 999,\n",
    "    'ang': 1510,\n",
    "    'fea': 447,\n",
    "    'sur': 514,\n",
    "    'calm': 192,\n",
    "    'fru': 1849,\n",
    "    'xxx': 2507,\n",
    "    'exc': 1041,\n",
    "    'oth': 3\n",
    "}\n",
    "sns.barplot(list(ems.keys()), np.array(list(ems.values()))*100/sum(list(ems.values())))"
   ]
  },
  {
   "cell_type": "code",
   "execution_count": 129,
   "metadata": {},
   "outputs": [
    {
     "data": {
      "text/plain": [
       "<matplotlib.axes._subplots.AxesSubplot at 0x7fbaf68db250>"
      ]
     },
     "execution_count": 129,
     "metadata": {},
     "output_type": "execute_result"
    },
    {
     "data": {
      "image/png": "[encoded data removed]",
      "text/plain": [
       "<Figure size 432x288 with 1 Axes>"
      ]
     },
     "metadata": {
      "needs_background": "light"
     },
     "output_type": "display_data"
    }
   ],
   "source": [
    "ems = {\n",
    "    'sad': 1491,\n",
    "    'dis': 409,\n",
    "    'neu': 1804,\n",
    "    'hap': 999,\n",
    "    'ang': 1510,\n",
    "    'fea': 447,\n",
    "    'sur': 514,\n",
    "#     'calm': 192,\n",
    "    'fru': 1849,\n",
    "#     'xxx': 2507,\n",
    "    'exc': 1041,\n",
    "#     'oth': 3\n",
    "}\n",
    "sns.barplot(list(ems.keys()), np.array(list(ems.values()))*100/sum(list(ems.values())))"
   ]
  },
  {
   "cell_type": "code",
   "execution_count": 132,
   "metadata": {},
   "outputs": [
    {
     "data": {
      "text/plain": [
       "<matplotlib.axes._subplots.AxesSubplot at 0x7fbaf4c65210>"
      ]
     },
     "execution_count": 132,
     "metadata": {},
     "output_type": "execute_result"
    },
    {
     "data": {
      "image/png": "[encoded data removed]",
      "text/plain": [
       "<Figure size 432x288 with 1 Axes>"
      ]
     },
     "metadata": {
      "needs_background": "light"
     },
     "output_type": "display_data"
    }
   ],
   "source": [
    "ems = {\n",
    "    'sad': 1491,\n",
    "#     'dis': 409,\n",
    "    'neu': 1804,\n",
    "    'hap': 999,\n",
    "    'ang': 1510,\n",
    "#     'fea': 447,\n",
    "#     'sur': 514,\n",
    "    'fru': 1849,\n",
    "    'exc': 1041,\n",
    "    'other': 3 + 514 + 447 + 409\n",
    "}\n",
    "sns.barplot(list(ems.keys()), np.array(list(ems.values()))*100/sum(list(ems.values())))"
   ]
  },
  {
   "cell_type": "code",
   "execution_count": 142,
   "metadata": {},
   "outputs": [],
   "source": [
    "aa = list(df_enterface.emotion)"
   ]
  },
  {
   "cell_type": "code",
   "execution_count": 148,
   "metadata": {},
   "outputs": [
    {
     "data": {
      "text/plain": [
       "str"
      ]
     },
     "execution_count": 148,
     "metadata": {},
     "output_type": "execute_result"
    }
   ],
   "source": [
    "type(list(map(str, aa))[0])"
   ]
  },
  {
   "cell_type": "code",
   "execution_count": null,
   "metadata": {},
   "outputs": [],
   "source": []
  },
  {
   "cell_type": "code",
   "execution_count": null,
   "metadata": {},
   "outputs": [],
   "source": []
  },
  {
   "cell_type": "code",
   "execution_count": 185,
   "metadata": {},
   "outputs": [],
   "source": [
    "path = \"/Users/grigorkeropyan/Desktop/YSU_thesis/small_data/back/iemocap/Session1/sentences_video_audio/Ses01F_impro01/Ses01F_impro01_F011.mp4\""
   ]
  },
  {
   "cell_type": "code",
   "execution_count": 186,
   "metadata": {},
   "outputs": [],
   "source": [
    "vid = VideoFileClip(path)"
   ]
  },
  {
   "cell_type": "code",
   "execution_count": 187,
   "metadata": {},
   "outputs": [
    {
     "name": "stderr",
     "output_type": "stream",
     "text": [
      "t:   0%|          | 0/295 [00:00<?, ?it/s, now=None]                "
     ]
    },
    {
     "name": "stdout",
     "output_type": "stream",
     "text": [
      "Moviepy - Building video vvvv.mp4.\n",
      "MoviePy - Writing audio in temp-audio.m4a\n",
      "MoviePy - Done.\n",
      "Moviepy - Writing video vvvv.mp4\n",
      "\n"
     ]
    },
    {
     "name": "stderr",
     "output_type": "stream",
     "text": [
      "                                                               \r"
     ]
    },
    {
     "name": "stdout",
     "output_type": "stream",
     "text": [
      "Moviepy - Done !\n",
      "Moviepy - video ready vvvv.mp4\n"
     ]
    }
   ],
   "source": [
    "vid.write_videofile(\"vvvv.mp4\",\n",
    "                    codec='libx264',\n",
    "                    audio_codec='aac',\n",
    "                    temp_audiofile='temp-audio.m4a',\n",
    "                    remove_temp=True)"
   ]
  },
  {
   "cell_type": "code",
   "execution_count": 188,
   "metadata": {},
   "outputs": [],
   "source": [
    "length = vid.duration"
   ]
  },
  {
   "cell_type": "code",
   "execution_count": 189,
   "metadata": {},
   "outputs": [
    {
     "data": {
      "text/plain": [
       "3"
      ]
     },
     "execution_count": 189,
     "metadata": {},
     "output_type": "execute_result"
    }
   ],
   "source": [
    "int(length//3)"
   ]
  },
  {
   "cell_type": "code",
   "execution_count": 192,
   "metadata": {},
   "outputs": [
    {
     "data": {
      "text/plain": [
       "9.84"
      ]
     },
     "execution_count": 192,
     "metadata": {},
     "output_type": "execute_result"
    }
   ],
   "source": [
    "length"
   ]
  },
  {
   "cell_type": "code",
   "execution_count": 195,
   "metadata": {},
   "outputs": [
    {
     "name": "stderr",
     "output_type": "stream",
     "text": [
      "t:  59%|█████▉    | 53/90 [00:00<00:00, 525.11it/s, now=None]"
     ]
    },
    {
     "name": "stdout",
     "output_type": "stream",
     "text": [
      "Moviepy - Building video v0.mp4.\n",
      "MoviePy - Writing audio in temp-audio.m4a\n",
      "MoviePy - Done.\n",
      "Moviepy - Writing video v0.mp4\n",
      "\n"
     ]
    },
    {
     "name": "stderr",
     "output_type": "stream",
     "text": [
      "t:  58%|█████▊    | 52/90 [00:00<00:00, 513.92it/s, now=None]"
     ]
    },
    {
     "name": "stdout",
     "output_type": "stream",
     "text": [
      "Moviepy - Done !\n",
      "Moviepy - video ready v0.mp4\n",
      "Moviepy - Building video v1.mp4.\n",
      "MoviePy - Writing audio in temp-audio.m4a\n",
      "MoviePy - Done.\n",
      "Moviepy - Writing video v1.mp4\n",
      "\n"
     ]
    },
    {
     "name": "stderr",
     "output_type": "stream",
     "text": [
      "t:  62%|██████▏   | 56/90 [00:00<00:00, 552.65it/s, now=None]"
     ]
    },
    {
     "name": "stdout",
     "output_type": "stream",
     "text": [
      "Moviepy - Done !\n",
      "Moviepy - video ready v1.mp4\n",
      "Moviepy - Building video v2.mp4.\n",
      "MoviePy - Writing audio in temp-audio.m4a\n",
      "MoviePy - Done.\n",
      "Moviepy - Writing video v2.mp4\n",
      "\n"
     ]
    },
    {
     "name": "stderr",
     "output_type": "stream",
     "text": [
      "                                                             \r"
     ]
    },
    {
     "name": "stdout",
     "output_type": "stream",
     "text": [
      "Moviepy - Done !\n",
      "Moviepy - video ready v2.mp4\n"
     ]
    }
   ],
   "source": [
    "for i in range(int(length//3)):\n",
    "    vi = vid.subclip(3*i, 3*i + 3)\n",
    "    vi.write_videofile(\"v\" + str(i) + \".mp4\",\n",
    "                    codec='libx264',\n",
    "                    audio_codec='aac',\n",
    "                    temp_audiofile='temp-audio.m4a',\n",
    "                    remove_temp=True)\n",
    "if length > 3*int(length//3) + 0.9:\n",
    "    vi = vid.subclip(3*int(length//3))\n",
    "    vi.write_videofile(\"v\" + \".mp4\",\n",
    "                        codec='libx264',\n",
    "                        audio_codec='aac',\n",
    "                        temp_audiofile='temp-audio.m4a',\n",
    "                        remove_temp=True)"
   ]
  },
  {
   "cell_type": "code",
   "execution_count": null,
   "metadata": {},
   "outputs": [],
   "source": [
    "def get_three_sec_videos(video_path, save_folder_path, save_name):\n",
    "    vid = VideoFileClip(video_path)\n",
    "    length = vid.duration\n",
    "    \n",
    "    for i in range(int(length//3)):\n",
    "        vi = vid.subclip(3*i, 3*i + 3)\n",
    "        vi.write_videofile(save_name+ \"v\" + str(i) + \".mp4\",\n",
    "                        codec='libx264',\n",
    "                        audio_codec='aac',\n",
    "                        temp_audiofile='temp-audio.m4a',\n",
    "                        remove_temp=True)\n",
    "    if length > 3*int(length//3) + 0.9:\n",
    "        vi = vid.subclip(3*int(length//3))\n",
    "        vi.write_videofile(save_name + \"v\" + \".mp4\",\n",
    "                            codec='libx264',\n",
    "                            audio_codec='aac',\n",
    "                            temp_audiofile='temp-audio.m4a',\n",
    "                            remove_temp=True)"
   ]
  },
  {
   "cell_type": "code",
   "execution_count": null,
   "metadata": {},
   "outputs": [],
   "source": []
  }
 ],
 "metadata": {
  "kernelspec": {
   "display_name": "ml1",
   "language": "python",
   "name": "ml1"
  },
  "language_info": {
   "codemirror_mode": {
    "name": "ipython",
    "version": 3
   },
   "file_extension": ".py",
   "mimetype": "text/x-python",
   "name": "python",
   "nbconvert_exporter": "python",
   "pygments_lexer": "ipython3",
   "version": "3.7.7"
  }
 },
 "nbformat": 4,
 "nbformat_minor": 4
}
