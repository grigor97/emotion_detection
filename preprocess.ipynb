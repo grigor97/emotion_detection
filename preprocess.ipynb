{
 "cells": [
  {
   "cell_type": "code",
   "execution_count": 1,
   "metadata": {},
   "outputs": [],
   "source": [
    "import os\n",
    "import sys\n",
    "import csv\n",
    "import re\n",
    "import math\n",
    "import pandas as pd\n",
    "# import pdb\n",
    "\n",
    "import librosa\n",
    "import os\n",
    "import soundfile as sf\n",
    "import numpy as np\n",
    "import matplotlib.pyplot as plt\n",
    "from matplotlib.backends.backend_agg import FigureCanvasAgg as FigureCanvas\n",
    "import matplotlib.style as ms\n",
    "from tqdm import tqdm\n",
    "import pickle\n",
    "\n",
    "import IPython.display\n",
    "import librosa.display\n",
    "ms.use('seaborn-muted')\n",
    "%matplotlib inline\n"
   ]
  },
  {
   "cell_type": "code",
   "execution_count": 11,
   "metadata": {},
   "outputs": [],
   "source": [
    "\n",
    "iemocap_full_release_path = \"/Users/grigorkeropyan/Desktop/YSU_thesis/small_data/IEMOCAP_full_release/\"\n",
    "\n",
    "iemocap_pre_processed_data_path = \"/Users/grigorkeropyan/Desktop/YSU_thesis/small_data/pre_processed_data/iemocap/\""
   ]
  },
  {
   "cell_type": "code",
   "execution_count": 3,
   "metadata": {},
   "outputs": [],
   "source": [
    "info_line = re.compile(r'\\[.+\\]\\n', re.IGNORECASE)\n",
    "\n",
    "start_times, end_times, wav_file_names, emotions, vals, acts, doms = [], [], [], [], [], [], []\n",
    "\n",
    "for sess in range(1, 2):\n",
    "    emo_evaluation_dir = iemocap_full_release_path + '/Session{}/dialog/EmoEvaluation/'.format(sess)\n",
    "    evaluation_files = [l for l in os.listdir(emo_evaluation_dir) if 'Ses' in l]\n",
    "    for file in evaluation_files:\n",
    "        x = re.search(\"^Ses.*\", file)\n",
    "        if x == None:\n",
    "            continue\n",
    "        with open(emo_evaluation_dir + file) as f:\n",
    "            content = f.read()\n",
    "        info_lines = re.findall(info_line, content)\n",
    "        for line in info_lines[1:]:  # the first line is a header\n",
    "            #pdb.set_trace()   \n",
    "            start_end_time, wav_file_name, emotion, val_act_dom = line.strip().split('\\t')\n",
    "            start_time, end_time = start_end_time[1:-1].split('-')\n",
    "            val, act, dom = val_act_dom[1:-1].split(',')\n",
    "            val, act, dom = float(val), float(act), float(dom)\n",
    "            start_time, end_time = float(start_time), float(end_time)\n",
    "            start_times.append(start_time)\n",
    "            end_times.append(end_time)\n",
    "            wav_file_names.append(wav_file_name)\n",
    "            emotions.append(emotion)\n",
    "            vals.append(val)\n",
    "            acts.append(act)\n",
    "            doms.append(dom)"
   ]
  },
  {
   "cell_type": "code",
   "execution_count": 4,
   "metadata": {},
   "outputs": [],
   "source": [
    "\n",
    "df_iemocap = pd.DataFrame(columns=['start_time', 'end_time', 'wav_file', 'emotion', 'val', 'act', 'dom'])\n",
    "\n",
    "df_iemocap['start_time'] = start_times\n",
    "df_iemocap['end_time'] = end_times\n",
    "df_iemocap['wav_file'] = wav_file_names\n",
    "df_iemocap['emotion'] = emotions\n",
    "df_iemocap['val'] = vals\n",
    "df_iemocap['act'] = acts\n",
    "df_iemocap['dom'] = doms"
   ]
  },
  {
   "cell_type": "code",
   "execution_count": 5,
   "metadata": {},
   "outputs": [
    {
     "data": {
      "text/html": [
       "<div>\n",
       "<style scoped>\n",
       "    .dataframe tbody tr th:only-of-type {\n",
       "        vertical-align: middle;\n",
       "    }\n",
       "\n",
       "    .dataframe tbody tr th {\n",
       "        vertical-align: top;\n",
       "    }\n",
       "\n",
       "    .dataframe thead th {\n",
       "        text-align: right;\n",
       "    }\n",
       "</style>\n",
       "<table border=\"1\" class=\"dataframe\">\n",
       "  <thead>\n",
       "    <tr style=\"text-align: right;\">\n",
       "      <th></th>\n",
       "      <th>start_time</th>\n",
       "      <th>end_time</th>\n",
       "      <th>wav_file</th>\n",
       "      <th>emotion</th>\n",
       "      <th>val</th>\n",
       "      <th>act</th>\n",
       "      <th>dom</th>\n",
       "    </tr>\n",
       "  </thead>\n",
       "  <tbody>\n",
       "    <tr>\n",
       "      <th>0</th>\n",
       "      <td>6.7700</td>\n",
       "      <td>8.4600</td>\n",
       "      <td>Ses01M_impro01_F000</td>\n",
       "      <td>ang</td>\n",
       "      <td>1.5000</td>\n",
       "      <td>3.5000</td>\n",
       "      <td>4.5000</td>\n",
       "    </tr>\n",
       "    <tr>\n",
       "      <th>1</th>\n",
       "      <td>8.5500</td>\n",
       "      <td>10.6000</td>\n",
       "      <td>Ses01M_impro01_F001</td>\n",
       "      <td>ang</td>\n",
       "      <td>2.5000</td>\n",
       "      <td>3.5000</td>\n",
       "      <td>3.5000</td>\n",
       "    </tr>\n",
       "    <tr>\n",
       "      <th>2</th>\n",
       "      <td>14.4600</td>\n",
       "      <td>18.2300</td>\n",
       "      <td>Ses01M_impro01_F002</td>\n",
       "      <td>xxx</td>\n",
       "      <td>3.0000</td>\n",
       "      <td>3.0000</td>\n",
       "      <td>3.5000</td>\n",
       "    </tr>\n",
       "    <tr>\n",
       "      <th>3</th>\n",
       "      <td>19.4800</td>\n",
       "      <td>23.4300</td>\n",
       "      <td>Ses01M_impro01_F003</td>\n",
       "      <td>xxx</td>\n",
       "      <td>3.0000</td>\n",
       "      <td>3.0000</td>\n",
       "      <td>3.0000</td>\n",
       "    </tr>\n",
       "    <tr>\n",
       "      <th>4</th>\n",
       "      <td>23.4300</td>\n",
       "      <td>26.4675</td>\n",
       "      <td>Ses01M_impro01_F004</td>\n",
       "      <td>fru</td>\n",
       "      <td>2.5000</td>\n",
       "      <td>3.5000</td>\n",
       "      <td>3.5000</td>\n",
       "    </tr>\n",
       "    <tr>\n",
       "      <th>...</th>\n",
       "      <td>...</td>\n",
       "      <td>...</td>\n",
       "      <td>...</td>\n",
       "      <td>...</td>\n",
       "      <td>...</td>\n",
       "      <td>...</td>\n",
       "      <td>...</td>\n",
       "    </tr>\n",
       "    <tr>\n",
       "      <th>1814</th>\n",
       "      <td>394.4000</td>\n",
       "      <td>397.0800</td>\n",
       "      <td>Ses01M_script01_1_M038</td>\n",
       "      <td>sad</td>\n",
       "      <td>2.0000</td>\n",
       "      <td>2.6667</td>\n",
       "      <td>2.6667</td>\n",
       "    </tr>\n",
       "    <tr>\n",
       "      <th>1815</th>\n",
       "      <td>405.1800</td>\n",
       "      <td>407.5100</td>\n",
       "      <td>Ses01M_script01_1_M039</td>\n",
       "      <td>xxx</td>\n",
       "      <td>2.6667</td>\n",
       "      <td>2.0000</td>\n",
       "      <td>1.6667</td>\n",
       "    </tr>\n",
       "    <tr>\n",
       "      <th>1816</th>\n",
       "      <td>408.0000</td>\n",
       "      <td>410.1525</td>\n",
       "      <td>Ses01M_script01_1_M040</td>\n",
       "      <td>sad</td>\n",
       "      <td>2.6667</td>\n",
       "      <td>2.3333</td>\n",
       "      <td>3.0000</td>\n",
       "    </tr>\n",
       "    <tr>\n",
       "      <th>1817</th>\n",
       "      <td>412.1300</td>\n",
       "      <td>414.7800</td>\n",
       "      <td>Ses01M_script01_1_M041</td>\n",
       "      <td>ang</td>\n",
       "      <td>2.6667</td>\n",
       "      <td>3.0000</td>\n",
       "      <td>3.6667</td>\n",
       "    </tr>\n",
       "    <tr>\n",
       "      <th>1818</th>\n",
       "      <td>418.6034</td>\n",
       "      <td>423.2925</td>\n",
       "      <td>Ses01M_script01_1_M042</td>\n",
       "      <td>sad</td>\n",
       "      <td>3.0000</td>\n",
       "      <td>2.0000</td>\n",
       "      <td>3.3333</td>\n",
       "    </tr>\n",
       "  </tbody>\n",
       "</table>\n",
       "<p>1819 rows × 7 columns</p>\n",
       "</div>"
      ],
      "text/plain": [
       "      start_time  end_time                wav_file emotion     val     act  \\\n",
       "0         6.7700    8.4600     Ses01M_impro01_F000     ang  1.5000  3.5000   \n",
       "1         8.5500   10.6000     Ses01M_impro01_F001     ang  2.5000  3.5000   \n",
       "2        14.4600   18.2300     Ses01M_impro01_F002     xxx  3.0000  3.0000   \n",
       "3        19.4800   23.4300     Ses01M_impro01_F003     xxx  3.0000  3.0000   \n",
       "4        23.4300   26.4675     Ses01M_impro01_F004     fru  2.5000  3.5000   \n",
       "...          ...       ...                     ...     ...     ...     ...   \n",
       "1814    394.4000  397.0800  Ses01M_script01_1_M038     sad  2.0000  2.6667   \n",
       "1815    405.1800  407.5100  Ses01M_script01_1_M039     xxx  2.6667  2.0000   \n",
       "1816    408.0000  410.1525  Ses01M_script01_1_M040     sad  2.6667  2.3333   \n",
       "1817    412.1300  414.7800  Ses01M_script01_1_M041     ang  2.6667  3.0000   \n",
       "1818    418.6034  423.2925  Ses01M_script01_1_M042     sad  3.0000  2.0000   \n",
       "\n",
       "         dom  \n",
       "0     4.5000  \n",
       "1     3.5000  \n",
       "2     3.5000  \n",
       "3     3.0000  \n",
       "4     3.5000  \n",
       "...      ...  \n",
       "1814  2.6667  \n",
       "1815  1.6667  \n",
       "1816  3.0000  \n",
       "1817  3.6667  \n",
       "1818  3.3333  \n",
       "\n",
       "[1819 rows x 7 columns]"
      ]
     },
     "execution_count": 5,
     "metadata": {},
     "output_type": "execute_result"
    }
   ],
   "source": [
    "df_iemocap"
   ]
  },
  {
   "cell_type": "code",
   "execution_count": 7,
   "metadata": {},
   "outputs": [
    {
     "name": "stderr",
     "output_type": "stream",
     "text": [
      "\r",
      "  0%|          | 0/3 [00:00<?, ?it/s]"
     ]
    },
    {
     "name": "stdout",
     "output_type": "stream",
     "text": [
      "Working on file -  Ses01F_impro01\n"
     ]
    },
    {
     "name": "stderr",
     "output_type": "stream",
     "text": [
      "\r",
      " 67%|██████▋   | 2/3 [00:16<00:08,  8.02s/it]"
     ]
    },
    {
     "name": "stdout",
     "output_type": "stream",
     "text": [
      "Working on file -  Ses01M_script02_1\n"
     ]
    },
    {
     "name": "stderr",
     "output_type": "stream",
     "text": [
      "100%|██████████| 3/3 [01:02<00:00, 20.95s/it]\n"
     ]
    }
   ],
   "source": [
    "sr = 44100\n",
    "audio_vectors = {}\n",
    "\n",
    "for sess in [1]:  # using one session due to memory constraint, can replace [5] with range(1, 6)\n",
    "    wav_file_path = '{}/Session{}/dialog/wav/'.format(iemocap_full_release_path, sess)\n",
    "    #pdb.set_trace()\n",
    "    orig_wav_files = os.listdir(wav_file_path)\n",
    "    \n",
    "#     print(orig_wav_files)\n",
    "    for orig_wav_file in tqdm(orig_wav_files):\n",
    "        #print(\"Wav file is \", orig_wav_file)\n",
    "        x = re.search(\"^Ses.*\", orig_wav_file)\n",
    "        if '.DS_Store' == orig_wav_file:\n",
    "            continue\n",
    "        if x == None:\n",
    "            print(\"Skiping file\", orig_wav_file)\n",
    "            continue\n",
    "#         print(wav_file_path + orig_wav_file)\n",
    "        try:\n",
    "            orig_wav_vector, _sr = librosa.load(wav_file_path + orig_wav_file, sr=sr)\n",
    "\n",
    "            orig_wav_file, file_format = orig_wav_file.split('.')\n",
    "            print(\"Working on file - \", orig_wav_file)\n",
    "            #pdb.set_trace()\n",
    "            for index, row in df_iemocap[df_iemocap['wav_file'].str.contains(orig_wav_file)].iterrows():\n",
    "                start_time, end_time, truncated_wav_file_name, emotion, val, act, dom = row['start_time'], row['end_time'], row['wav_file'], row['emotion'], row['val'], row['act'], row['dom']\n",
    "                start_frame = math.floor(start_time * sr)\n",
    "                end_frame = math.floor(end_time * sr)\n",
    "                truncated_wav_vector = orig_wav_vector[start_frame:end_frame + 1]\n",
    "\n",
    "\n",
    "                X = librosa.stft(truncated_wav_vector)\n",
    "                Xdb = librosa.amplitude_to_db(abs(X))\n",
    "                plt.figure(figsize=(14, 5))\n",
    "                #plt.figure()\n",
    "                librosa.display.specshow(Xdb, sr=sr, x_axis='time', y_axis='hz')\n",
    "                plt.colorbar()\n",
    "\n",
    "                #pdb.set_trace()\n",
    "                plt.savefig(iemocap_pre_processed_data_path + \"images/\" + str(emotion) +\"_\"+ str(val) +\"_\"+ str(act) +\"_\"+ str(dom) + '.png')\n",
    "                plt.close('all')\n",
    "                audio_vectors[truncated_wav_file_name] = truncated_wav_vector\n",
    "\n",
    "        except:\n",
    "            print('An exception occured for {}'.format(orig_wav_file))\n",
    "    with open(iemocap_pre_processed_data_path + '/audio_vectors_exp_{}.pkl'.format(sess), 'wb') as f:\n",
    "        pickle.dump(audio_vectors, f)"
   ]
  },
  {
   "cell_type": "code",
   "execution_count": null,
   "metadata": {},
   "outputs": [],
   "source": []
  },
  {
   "cell_type": "code",
   "execution_count": 8,
   "metadata": {},
   "outputs": [],
   "source": [
    "with open(\"../small_data/pre_processed_data/audio_vectors_exp_1.pkl\", 'rb') as file:\n",
    "    d = pickle.load(file)"
   ]
  },
  {
   "cell_type": "code",
   "execution_count": null,
   "metadata": {},
   "outputs": [],
   "source": [
    "len(d[list(d.keys())[-3]])"
   ]
  },
  {
   "cell_type": "code",
   "execution_count": null,
   "metadata": {},
   "outputs": [],
   "source": [
    "df_iemocap"
   ]
  },
  {
   "cell_type": "code",
   "execution_count": 9,
   "metadata": {},
   "outputs": [
    {
     "data": {
      "text/plain": [
       "102"
      ]
     },
     "execution_count": 9,
     "metadata": {},
     "output_type": "execute_result"
    }
   ],
   "source": [
    "len(d)"
   ]
  },
  {
   "cell_type": "code",
   "execution_count": null,
   "metadata": {},
   "outputs": [],
   "source": []
  }
 ],
 "metadata": {
  "kernelspec": {
   "display_name": "ml1",
   "language": "python",
   "name": "ml1"
  },
  "language_info": {
   "codemirror_mode": {
    "name": "ipython",
    "version": 3
   },
   "file_extension": ".py",
   "mimetype": "text/x-python",
   "name": "python",
   "nbconvert_exporter": "python",
   "pygments_lexer": "ipython3",
   "version": "3.7.7"
  }
 },
 "nbformat": 4,
 "nbformat_minor": 4
}
