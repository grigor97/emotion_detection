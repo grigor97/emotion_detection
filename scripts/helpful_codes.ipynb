{
 "cells": [
  {
   "cell_type": "code",
   "execution_count": 1,
   "metadata": {},
   "outputs": [],
   "source": [
    "p = '/Users/grigorkeropyan/Desktop/YSU_thesis/all_data/Ses01F_impro01_F001_0/pics/Ses01F_impro01_F001_0_2.jpg'"
   ]
  },
  {
   "cell_type": "code",
   "execution_count": null,
   "metadata": {},
   "outputs": [],
   "source": [
    "cv2.resize()"
   ]
  },
  {
   "cell_type": "code",
   "execution_count": null,
   "metadata": {},
   "outputs": [],
   "source": []
  },
  {
   "cell_type": "code",
   "execution_count": 1,
   "metadata": {},
   "outputs": [],
   "source": [
    "import os\n",
    "import sys\n",
    "import csv\n",
    "import re\n",
    "import math\n",
    "import pandas as pd\n",
    "import os\n",
    "import seaborn as sns\n",
    "from glob import glob\n",
    "# import pdb\n",
    "\n",
    "import os\n",
    "import numpy as np\n",
    "import matplotlib.pyplot as plt\n",
    "from matplotlib.backends.backend_agg import FigureCanvasAgg as FigureCanvas\n",
    "import matplotlib.style as ms\n",
    "from tqdm import tqdm\n",
    "import pickle\n",
    "\n",
    "from moviepy.editor import *\n"
   ]
  },
  {
   "cell_type": "code",
   "execution_count": null,
   "metadata": {},
   "outputs": [],
   "source": []
  },
  {
   "cell_type": "code",
   "execution_count": 2,
   "metadata": {},
   "outputs": [],
   "source": [
    "df_iemocap = pd.read_csv(\"../data/preprocessed_data/df_iemocap.csv\")"
   ]
  },
  {
   "cell_type": "code",
   "execution_count": 3,
   "metadata": {},
   "outputs": [
    {
     "data": {
      "text/html": [
       "<div>\n",
       "<style scoped>\n",
       "    .dataframe tbody tr th:only-of-type {\n",
       "        vertical-align: middle;\n",
       "    }\n",
       "\n",
       "    .dataframe tbody tr th {\n",
       "        vertical-align: top;\n",
       "    }\n",
       "\n",
       "    .dataframe thead th {\n",
       "        text-align: right;\n",
       "    }\n",
       "</style>\n",
       "<table border=\"1\" class=\"dataframe\">\n",
       "  <thead>\n",
       "    <tr style=\"text-align: right;\">\n",
       "      <th></th>\n",
       "      <th>start_time</th>\n",
       "      <th>end_time</th>\n",
       "      <th>file_path</th>\n",
       "      <th>emotion</th>\n",
       "      <th>session</th>\n",
       "      <th>sex</th>\n",
       "    </tr>\n",
       "  </thead>\n",
       "  <tbody>\n",
       "    <tr>\n",
       "      <th>0</th>\n",
       "      <td>4.24</td>\n",
       "      <td>5.23</td>\n",
       "      <td>/home/student/keropyan/data/iemocap/Session1/s...</td>\n",
       "      <td>fru</td>\n",
       "      <td>1</td>\n",
       "      <td>F</td>\n",
       "    </tr>\n",
       "    <tr>\n",
       "      <th>1</th>\n",
       "      <td>5.26</td>\n",
       "      <td>7.16</td>\n",
       "      <td>/home/student/keropyan/data/iemocap/Session1/s...</td>\n",
       "      <td>fru</td>\n",
       "      <td>1</td>\n",
       "      <td>F</td>\n",
       "    </tr>\n",
       "    <tr>\n",
       "      <th>2</th>\n",
       "      <td>7.35</td>\n",
       "      <td>8.85</td>\n",
       "      <td>/home/student/keropyan/data/iemocap/Session1/s...</td>\n",
       "      <td>fru</td>\n",
       "      <td>1</td>\n",
       "      <td>F</td>\n",
       "    </tr>\n",
       "    <tr>\n",
       "      <th>3</th>\n",
       "      <td>9.20</td>\n",
       "      <td>13.02</td>\n",
       "      <td>/home/student/keropyan/data/iemocap/Session1/s...</td>\n",
       "      <td>fru</td>\n",
       "      <td>1</td>\n",
       "      <td>F</td>\n",
       "    </tr>\n",
       "    <tr>\n",
       "      <th>4</th>\n",
       "      <td>13.04</td>\n",
       "      <td>22.74</td>\n",
       "      <td>/home/student/keropyan/data/iemocap/Session1/s...</td>\n",
       "      <td>fru</td>\n",
       "      <td>1</td>\n",
       "      <td>F</td>\n",
       "    </tr>\n",
       "  </tbody>\n",
       "</table>\n",
       "</div>"
      ],
      "text/plain": [
       "   start_time  end_time                                          file_path  \\\n",
       "0        4.24      5.23  /home/student/keropyan/data/iemocap/Session1/s...   \n",
       "1        5.26      7.16  /home/student/keropyan/data/iemocap/Session1/s...   \n",
       "2        7.35      8.85  /home/student/keropyan/data/iemocap/Session1/s...   \n",
       "3        9.20     13.02  /home/student/keropyan/data/iemocap/Session1/s...   \n",
       "4       13.04     22.74  /home/student/keropyan/data/iemocap/Session1/s...   \n",
       "\n",
       "  emotion  session sex  \n",
       "0     fru        1   F  \n",
       "1     fru        1   F  \n",
       "2     fru        1   F  \n",
       "3     fru        1   F  \n",
       "4     fru        1   F  "
      ]
     },
     "execution_count": 3,
     "metadata": {},
     "output_type": "execute_result"
    }
   ],
   "source": [
    "df_iemocap.head()"
   ]
  },
  {
   "cell_type": "code",
   "execution_count": 4,
   "metadata": {},
   "outputs": [],
   "source": [
    "df_iemocap['length'] = df_iemocap.end_time - df_iemocap.start_time"
   ]
  },
  {
   "cell_type": "code",
   "execution_count": 5,
   "metadata": {},
   "outputs": [
    {
     "data": {
      "text/html": [
       "<div>\n",
       "<style scoped>\n",
       "    .dataframe tbody tr th:only-of-type {\n",
       "        vertical-align: middle;\n",
       "    }\n",
       "\n",
       "    .dataframe tbody tr th {\n",
       "        vertical-align: top;\n",
       "    }\n",
       "\n",
       "    .dataframe thead th {\n",
       "        text-align: right;\n",
       "    }\n",
       "</style>\n",
       "<table border=\"1\" class=\"dataframe\">\n",
       "  <thead>\n",
       "    <tr style=\"text-align: right;\">\n",
       "      <th></th>\n",
       "      <th>start_time</th>\n",
       "      <th>end_time</th>\n",
       "      <th>file_path</th>\n",
       "      <th>emotion</th>\n",
       "      <th>session</th>\n",
       "      <th>sex</th>\n",
       "      <th>length</th>\n",
       "    </tr>\n",
       "  </thead>\n",
       "  <tbody>\n",
       "    <tr>\n",
       "      <th>0</th>\n",
       "      <td>4.24</td>\n",
       "      <td>5.2300</td>\n",
       "      <td>/home/student/keropyan/data/iemocap/Session1/s...</td>\n",
       "      <td>fru</td>\n",
       "      <td>1</td>\n",
       "      <td>F</td>\n",
       "      <td>0.9900</td>\n",
       "    </tr>\n",
       "    <tr>\n",
       "      <th>1</th>\n",
       "      <td>5.26</td>\n",
       "      <td>7.1600</td>\n",
       "      <td>/home/student/keropyan/data/iemocap/Session1/s...</td>\n",
       "      <td>fru</td>\n",
       "      <td>1</td>\n",
       "      <td>F</td>\n",
       "      <td>1.9000</td>\n",
       "    </tr>\n",
       "    <tr>\n",
       "      <th>2</th>\n",
       "      <td>7.35</td>\n",
       "      <td>8.8500</td>\n",
       "      <td>/home/student/keropyan/data/iemocap/Session1/s...</td>\n",
       "      <td>fru</td>\n",
       "      <td>1</td>\n",
       "      <td>F</td>\n",
       "      <td>1.5000</td>\n",
       "    </tr>\n",
       "    <tr>\n",
       "      <th>3</th>\n",
       "      <td>9.20</td>\n",
       "      <td>13.0200</td>\n",
       "      <td>/home/student/keropyan/data/iemocap/Session1/s...</td>\n",
       "      <td>fru</td>\n",
       "      <td>1</td>\n",
       "      <td>F</td>\n",
       "      <td>3.8200</td>\n",
       "    </tr>\n",
       "    <tr>\n",
       "      <th>4</th>\n",
       "      <td>13.04</td>\n",
       "      <td>22.7400</td>\n",
       "      <td>/home/student/keropyan/data/iemocap/Session1/s...</td>\n",
       "      <td>fru</td>\n",
       "      <td>1</td>\n",
       "      <td>F</td>\n",
       "      <td>9.7000</td>\n",
       "    </tr>\n",
       "    <tr>\n",
       "      <th>...</th>\n",
       "      <td>...</td>\n",
       "      <td>...</td>\n",
       "      <td>...</td>\n",
       "      <td>...</td>\n",
       "      <td>...</td>\n",
       "      <td>...</td>\n",
       "      <td>...</td>\n",
       "    </tr>\n",
       "    <tr>\n",
       "      <th>10034</th>\n",
       "      <td>337.74</td>\n",
       "      <td>347.8900</td>\n",
       "      <td>/home/student/keropyan/data/iemocap/Session5/s...</td>\n",
       "      <td>xxx</td>\n",
       "      <td>5</td>\n",
       "      <td>M</td>\n",
       "      <td>10.1500</td>\n",
       "    </tr>\n",
       "    <tr>\n",
       "      <th>10035</th>\n",
       "      <td>350.43</td>\n",
       "      <td>354.1500</td>\n",
       "      <td>/home/student/keropyan/data/iemocap/Session5/s...</td>\n",
       "      <td>xxx</td>\n",
       "      <td>5</td>\n",
       "      <td>M</td>\n",
       "      <td>3.7200</td>\n",
       "    </tr>\n",
       "    <tr>\n",
       "      <th>10036</th>\n",
       "      <td>360.78</td>\n",
       "      <td>366.1200</td>\n",
       "      <td>/home/student/keropyan/data/iemocap/Session5/s...</td>\n",
       "      <td>fru</td>\n",
       "      <td>5</td>\n",
       "      <td>M</td>\n",
       "      <td>5.3400</td>\n",
       "    </tr>\n",
       "    <tr>\n",
       "      <th>10037</th>\n",
       "      <td>367.03</td>\n",
       "      <td>369.6377</td>\n",
       "      <td>/home/student/keropyan/data/iemocap/Session5/s...</td>\n",
       "      <td>ang</td>\n",
       "      <td>5</td>\n",
       "      <td>M</td>\n",
       "      <td>2.6077</td>\n",
       "    </tr>\n",
       "    <tr>\n",
       "      <th>10038</th>\n",
       "      <td>372.59</td>\n",
       "      <td>377.3700</td>\n",
       "      <td>/home/student/keropyan/data/iemocap/Session5/s...</td>\n",
       "      <td>ang</td>\n",
       "      <td>5</td>\n",
       "      <td>M</td>\n",
       "      <td>4.7800</td>\n",
       "    </tr>\n",
       "  </tbody>\n",
       "</table>\n",
       "<p>10039 rows × 7 columns</p>\n",
       "</div>"
      ],
      "text/plain": [
       "       start_time  end_time  \\\n",
       "0            4.24    5.2300   \n",
       "1            5.26    7.1600   \n",
       "2            7.35    8.8500   \n",
       "3            9.20   13.0200   \n",
       "4           13.04   22.7400   \n",
       "...           ...       ...   \n",
       "10034      337.74  347.8900   \n",
       "10035      350.43  354.1500   \n",
       "10036      360.78  366.1200   \n",
       "10037      367.03  369.6377   \n",
       "10038      372.59  377.3700   \n",
       "\n",
       "                                               file_path emotion  session sex  \\\n",
       "0      /home/student/keropyan/data/iemocap/Session1/s...     fru        1   F   \n",
       "1      /home/student/keropyan/data/iemocap/Session1/s...     fru        1   F   \n",
       "2      /home/student/keropyan/data/iemocap/Session1/s...     fru        1   F   \n",
       "3      /home/student/keropyan/data/iemocap/Session1/s...     fru        1   F   \n",
       "4      /home/student/keropyan/data/iemocap/Session1/s...     fru        1   F   \n",
       "...                                                  ...     ...      ...  ..   \n",
       "10034  /home/student/keropyan/data/iemocap/Session5/s...     xxx        5   M   \n",
       "10035  /home/student/keropyan/data/iemocap/Session5/s...     xxx        5   M   \n",
       "10036  /home/student/keropyan/data/iemocap/Session5/s...     fru        5   M   \n",
       "10037  /home/student/keropyan/data/iemocap/Session5/s...     ang        5   M   \n",
       "10038  /home/student/keropyan/data/iemocap/Session5/s...     ang        5   M   \n",
       "\n",
       "        length  \n",
       "0       0.9900  \n",
       "1       1.9000  \n",
       "2       1.5000  \n",
       "3       3.8200  \n",
       "4       9.7000  \n",
       "...        ...  \n",
       "10034  10.1500  \n",
       "10035   3.7200  \n",
       "10036   5.3400  \n",
       "10037   2.6077  \n",
       "10038   4.7800  \n",
       "\n",
       "[10039 rows x 7 columns]"
      ]
     },
     "execution_count": 5,
     "metadata": {},
     "output_type": "execute_result"
    }
   ],
   "source": [
    "df_iemocap"
   ]
  },
  {
   "cell_type": "code",
   "execution_count": 6,
   "metadata": {},
   "outputs": [
    {
     "data": {
      "text/plain": [
       "{'F', 'M'}"
      ]
     },
     "execution_count": 6,
     "metadata": {},
     "output_type": "execute_result"
    }
   ],
   "source": [
    "set(df_iemocap.sex)"
   ]
  },
  {
   "cell_type": "code",
   "execution_count": 7,
   "metadata": {},
   "outputs": [],
   "source": [
    "df_ravdess = pd.read_csv('../data/preprocessed_data/df_ravdess.csv')"
   ]
  },
  {
   "cell_type": "code",
   "execution_count": 8,
   "metadata": {},
   "outputs": [
    {
     "data": {
      "text/html": [
       "<div>\n",
       "<style scoped>\n",
       "    .dataframe tbody tr th:only-of-type {\n",
       "        vertical-align: middle;\n",
       "    }\n",
       "\n",
       "    .dataframe tbody tr th {\n",
       "        vertical-align: top;\n",
       "    }\n",
       "\n",
       "    .dataframe thead th {\n",
       "        text-align: right;\n",
       "    }\n",
       "</style>\n",
       "<table border=\"1\" class=\"dataframe\">\n",
       "  <thead>\n",
       "    <tr style=\"text-align: right;\">\n",
       "      <th></th>\n",
       "      <th>file_path</th>\n",
       "      <th>emotion</th>\n",
       "      <th>actor</th>\n",
       "      <th>sex</th>\n",
       "      <th>length</th>\n",
       "    </tr>\n",
       "  </thead>\n",
       "  <tbody>\n",
       "    <tr>\n",
       "      <th>0</th>\n",
       "      <td>/home/student/keropyan/data/RAVDESS/Actor_13/0...</td>\n",
       "      <td>sad</td>\n",
       "      <td>13</td>\n",
       "      <td>M</td>\n",
       "      <td>3.48</td>\n",
       "    </tr>\n",
       "    <tr>\n",
       "      <th>1</th>\n",
       "      <td>/home/student/keropyan/data/RAVDESS/Actor_13/0...</td>\n",
       "      <td>dis</td>\n",
       "      <td>13</td>\n",
       "      <td>M</td>\n",
       "      <td>3.18</td>\n",
       "    </tr>\n",
       "    <tr>\n",
       "      <th>2</th>\n",
       "      <td>/home/student/keropyan/data/RAVDESS/Actor_13/0...</td>\n",
       "      <td>neu</td>\n",
       "      <td>13</td>\n",
       "      <td>M</td>\n",
       "      <td>3.22</td>\n",
       "    </tr>\n",
       "    <tr>\n",
       "      <th>3</th>\n",
       "      <td>/home/student/keropyan/data/RAVDESS/Actor_13/0...</td>\n",
       "      <td>sad</td>\n",
       "      <td>13</td>\n",
       "      <td>M</td>\n",
       "      <td>3.48</td>\n",
       "    </tr>\n",
       "    <tr>\n",
       "      <th>4</th>\n",
       "      <td>/home/student/keropyan/data/RAVDESS/Actor_13/0...</td>\n",
       "      <td>sad</td>\n",
       "      <td>13</td>\n",
       "      <td>M</td>\n",
       "      <td>3.24</td>\n",
       "    </tr>\n",
       "  </tbody>\n",
       "</table>\n",
       "</div>"
      ],
      "text/plain": [
       "                                           file_path emotion  actor sex  \\\n",
       "0  /home/student/keropyan/data/RAVDESS/Actor_13/0...     sad     13   M   \n",
       "1  /home/student/keropyan/data/RAVDESS/Actor_13/0...     dis     13   M   \n",
       "2  /home/student/keropyan/data/RAVDESS/Actor_13/0...     neu     13   M   \n",
       "3  /home/student/keropyan/data/RAVDESS/Actor_13/0...     sad     13   M   \n",
       "4  /home/student/keropyan/data/RAVDESS/Actor_13/0...     sad     13   M   \n",
       "\n",
       "   length  \n",
       "0    3.48  \n",
       "1    3.18  \n",
       "2    3.22  \n",
       "3    3.48  \n",
       "4    3.24  "
      ]
     },
     "execution_count": 8,
     "metadata": {},
     "output_type": "execute_result"
    }
   ],
   "source": [
    "df_ravdess.head()"
   ]
  },
  {
   "cell_type": "code",
   "execution_count": null,
   "metadata": {},
   "outputs": [],
   "source": []
  },
  {
   "cell_type": "code",
   "execution_count": 9,
   "metadata": {},
   "outputs": [],
   "source": [
    "df_enterface = pd.read_csv('../data/preprocessed_data/df_enterface.csv')"
   ]
  },
  {
   "cell_type": "code",
   "execution_count": 10,
   "metadata": {},
   "outputs": [
    {
     "data": {
      "text/html": [
       "<div>\n",
       "<style scoped>\n",
       "    .dataframe tbody tr th:only-of-type {\n",
       "        vertical-align: middle;\n",
       "    }\n",
       "\n",
       "    .dataframe tbody tr th {\n",
       "        vertical-align: top;\n",
       "    }\n",
       "\n",
       "    .dataframe thead th {\n",
       "        text-align: right;\n",
       "    }\n",
       "</style>\n",
       "<table border=\"1\" class=\"dataframe\">\n",
       "  <thead>\n",
       "    <tr style=\"text-align: right;\">\n",
       "      <th></th>\n",
       "      <th>file_path</th>\n",
       "      <th>emotion</th>\n",
       "      <th>subject</th>\n",
       "      <th>length</th>\n",
       "    </tr>\n",
       "  </thead>\n",
       "  <tbody>\n",
       "    <tr>\n",
       "      <th>0</th>\n",
       "      <td>/home/student/keropyan/data/enterface_database...</td>\n",
       "      <td>dis</td>\n",
       "      <td>3</td>\n",
       "      <td>6.00</td>\n",
       "    </tr>\n",
       "    <tr>\n",
       "      <th>1</th>\n",
       "      <td>/home/student/keropyan/data/enterface_database...</td>\n",
       "      <td>dis</td>\n",
       "      <td>3</td>\n",
       "      <td>3.40</td>\n",
       "    </tr>\n",
       "    <tr>\n",
       "      <th>2</th>\n",
       "      <td>/home/student/keropyan/data/enterface_database...</td>\n",
       "      <td>dis</td>\n",
       "      <td>3</td>\n",
       "      <td>3.04</td>\n",
       "    </tr>\n",
       "    <tr>\n",
       "      <th>3</th>\n",
       "      <td>/home/student/keropyan/data/enterface_database...</td>\n",
       "      <td>dis</td>\n",
       "      <td>3</td>\n",
       "      <td>2.92</td>\n",
       "    </tr>\n",
       "    <tr>\n",
       "      <th>4</th>\n",
       "      <td>/home/student/keropyan/data/enterface_database...</td>\n",
       "      <td>dis</td>\n",
       "      <td>3</td>\n",
       "      <td>2.96</td>\n",
       "    </tr>\n",
       "  </tbody>\n",
       "</table>\n",
       "</div>"
      ],
      "text/plain": [
       "                                           file_path emotion  subject  length\n",
       "0  /home/student/keropyan/data/enterface_database...     dis        3    6.00\n",
       "1  /home/student/keropyan/data/enterface_database...     dis        3    3.40\n",
       "2  /home/student/keropyan/data/enterface_database...     dis        3    3.04\n",
       "3  /home/student/keropyan/data/enterface_database...     dis        3    2.92\n",
       "4  /home/student/keropyan/data/enterface_database...     dis        3    2.96"
      ]
     },
     "execution_count": 10,
     "metadata": {},
     "output_type": "execute_result"
    }
   ],
   "source": [
    "df_enterface.head()"
   ]
  },
  {
   "cell_type": "code",
   "execution_count": null,
   "metadata": {},
   "outputs": [],
   "source": [
    "df_iemocap.file_path[4]"
   ]
  },
  {
   "cell_type": "code",
   "execution_count": null,
   "metadata": {},
   "outputs": [],
   "source": [
    "df_ravdess.file_path[4]"
   ]
  },
  {
   "cell_type": "code",
   "execution_count": null,
   "metadata": {},
   "outputs": [],
   "source": [
    "df_enterface.file_path[4]"
   ]
  },
  {
   "cell_type": "code",
   "execution_count": null,
   "metadata": {},
   "outputs": [],
   "source": [
    "emotions = []\n",
    "emotions.extend(df_iemocap.emotion)"
   ]
  },
  {
   "cell_type": "code",
   "execution_count": null,
   "metadata": {},
   "outputs": [],
   "source": []
  },
  {
   "cell_type": "code",
   "execution_count": null,
   "metadata": {},
   "outputs": [],
   "source": [
    "ems = {\n",
    "    'sad': 1491,\n",
    "    'dis': 409,\n",
    "    'neu': 1804,\n",
    "    'hap': 999,\n",
    "    'ang': 1510,\n",
    "    'fea': 447,\n",
    "    'sur': 514,\n",
    "    'calm': 192,\n",
    "    'fru': 1849,\n",
    "    'xxx': 2507,\n",
    "    'exc': 1041,\n",
    "    'oth': 3\n",
    "}\n",
    "sns.barplot(list(ems.keys()), np.array(list(ems.values()))*100/sum(list(ems.values())))"
   ]
  },
  {
   "cell_type": "code",
   "execution_count": null,
   "metadata": {},
   "outputs": [],
   "source": [
    "ems = {\n",
    "    'sad': 1491,\n",
    "    'dis': 409,\n",
    "    'neu': 1804,\n",
    "    'hap': 999,\n",
    "    'ang': 1510,\n",
    "    'fea': 447,\n",
    "    'sur': 514,\n",
    "#     'calm': 192,\n",
    "    'fru': 1849,\n",
    "#     'xxx': 2507,\n",
    "    'exc': 1041,\n",
    "#     'oth': 3\n",
    "}\n",
    "sns.barplot(list(ems.keys()), np.array(list(ems.values()))*100/sum(list(ems.values())))"
   ]
  },
  {
   "cell_type": "code",
   "execution_count": null,
   "metadata": {},
   "outputs": [],
   "source": [
    "ems = {\n",
    "    'sad': 1491,\n",
    "#     'dis': 409,\n",
    "    'neu': 1804,\n",
    "    'hap': 999,\n",
    "    'ang': 1510,\n",
    "#     'fea': 447,\n",
    "#     'sur': 514,\n",
    "    'fru': 1849,\n",
    "    'exc': 1041,\n",
    "    'other': 3 + 514 + 447 + 409\n",
    "}\n",
    "sns.barplot(list(ems.keys()), np.array(list(ems.values()))*100/sum(list(ems.values())))"
   ]
  },
  {
   "cell_type": "code",
   "execution_count": null,
   "metadata": {},
   "outputs": [],
   "source": [
    "aa = list(df_enterface.emotion)"
   ]
  },
  {
   "cell_type": "code",
   "execution_count": null,
   "metadata": {},
   "outputs": [],
   "source": [
    "type(list(map(str, aa))[0])"
   ]
  },
  {
   "cell_type": "code",
   "execution_count": null,
   "metadata": {},
   "outputs": [],
   "source": [
    "lns = np.array(df_iemocap.end_time - df_iemocap.start_time)"
   ]
  },
  {
   "cell_type": "code",
   "execution_count": null,
   "metadata": {},
   "outputs": [],
   "source": [
    "(lns < 3).sum()"
   ]
  },
  {
   "cell_type": "code",
   "execution_count": null,
   "metadata": {},
   "outputs": [],
   "source": [
    "lns.shape"
   ]
  },
  {
   "cell_type": "code",
   "execution_count": null,
   "metadata": {},
   "outputs": [],
   "source": [
    "'''rav_duration = []\n",
    "for i, row in df_ravdess.iterrows():\n",
    "    vid = VideoFileClip(row[0])\n",
    "    rav_duration.append(vid.duration)\n",
    "\n",
    "df_ravdess['length'] = rav_duration  ''' "
   ]
  },
  {
   "cell_type": "code",
   "execution_count": null,
   "metadata": {},
   "outputs": [],
   "source": [
    "df_ravdess"
   ]
  },
  {
   "cell_type": "code",
   "execution_count": null,
   "metadata": {},
   "outputs": [],
   "source": [
    "#df_ravdess.to_csv('../data/preprocessed_data/df_ravdess.csv', index=False)"
   ]
  },
  {
   "cell_type": "code",
   "execution_count": null,
   "metadata": {},
   "outputs": [],
   "source": [
    "#df_ravdess = pd.read_csv('../data/preprocessed_data/df_ravdess.csv')"
   ]
  },
  {
   "cell_type": "code",
   "execution_count": null,
   "metadata": {},
   "outputs": [],
   "source": [
    "df_ravdess"
   ]
  },
  {
   "cell_type": "code",
   "execution_count": null,
   "metadata": {},
   "outputs": [],
   "source": [
    "df_enterface"
   ]
  },
  {
   "cell_type": "code",
   "execution_count": null,
   "metadata": {},
   "outputs": [],
   "source": [
    "'''ent_duration = []\n",
    "for i, row in df_enterface.iterrows():\n",
    "    vid = VideoFileClip(row[0])\n",
    "    ent_duration.append(vid.duration)\n",
    "\n",
    "df_enterface['length'] = ent_duration   '''"
   ]
  },
  {
   "cell_type": "code",
   "execution_count": null,
   "metadata": {},
   "outputs": [],
   "source": [
    "#df_enterface.to_csv('../data/preprocessed_data/df_enterface.csv', index=False)"
   ]
  },
  {
   "cell_type": "code",
   "execution_count": null,
   "metadata": {},
   "outputs": [],
   "source": []
  },
  {
   "cell_type": "code",
   "execution_count": null,
   "metadata": {},
   "outputs": [],
   "source": []
  },
  {
   "cell_type": "code",
   "execution_count": 11,
   "metadata": {},
   "outputs": [],
   "source": [
    "# filtering and combining some emotions!\n",
    "current_emos = ['sad', 'neu', 'hap', 'ang', \n",
    "          'fru', 'exc', 'oth', 'dis', 'fea', 'sur']\n",
    "\n",
    "final_emos = ['sad', 'neu', 'hap', 'ang', 'fru', 'exc', 'oth']\n",
    "df_iemocap = df_iemocap.loc[df_iemocap.emotion.isin(current_emos)]\n",
    "df_enterface = df_enterface.loc[df_enterface.emotion.isin(current_emos)]\n",
    "df_ravdess = df_ravdess.loc[df_ravdess.emotion.isin(current_emos)]\n",
    "\n",
    "\n",
    "df_iemocap['emotion'] = df_iemocap['emotion'].replace({'sur': 'oth', 'fea': 'oth', 'dis': 'oth'})\n",
    "df_enterface['emotion'] = df_enterface['emotion'].replace({'sur': 'oth', 'fea': 'oth', 'dis': 'oth'})\n",
    "df_ravdess['emotion'] = df_ravdess['emotion'].replace({'sur': 'oth', 'fea': 'oth', 'dis': 'oth'})"
   ]
  },
  {
   "cell_type": "code",
   "execution_count": 12,
   "metadata": {},
   "outputs": [
    {
     "data": {
      "text/html": [
       "<div>\n",
       "<style scoped>\n",
       "    .dataframe tbody tr th:only-of-type {\n",
       "        vertical-align: middle;\n",
       "    }\n",
       "\n",
       "    .dataframe tbody tr th {\n",
       "        vertical-align: top;\n",
       "    }\n",
       "\n",
       "    .dataframe thead th {\n",
       "        text-align: right;\n",
       "    }\n",
       "</style>\n",
       "<table border=\"1\" class=\"dataframe\">\n",
       "  <thead>\n",
       "    <tr style=\"text-align: right;\">\n",
       "      <th></th>\n",
       "      <th>start_time</th>\n",
       "      <th>end_time</th>\n",
       "      <th>file_path</th>\n",
       "      <th>emotion</th>\n",
       "      <th>session</th>\n",
       "      <th>sex</th>\n",
       "      <th>length</th>\n",
       "    </tr>\n",
       "  </thead>\n",
       "  <tbody>\n",
       "    <tr>\n",
       "      <th>0</th>\n",
       "      <td>4.24</td>\n",
       "      <td>5.2300</td>\n",
       "      <td>/home/student/keropyan/data/iemocap/Session1/s...</td>\n",
       "      <td>fru</td>\n",
       "      <td>1</td>\n",
       "      <td>F</td>\n",
       "      <td>0.9900</td>\n",
       "    </tr>\n",
       "    <tr>\n",
       "      <th>1</th>\n",
       "      <td>5.26</td>\n",
       "      <td>7.1600</td>\n",
       "      <td>/home/student/keropyan/data/iemocap/Session1/s...</td>\n",
       "      <td>fru</td>\n",
       "      <td>1</td>\n",
       "      <td>F</td>\n",
       "      <td>1.9000</td>\n",
       "    </tr>\n",
       "    <tr>\n",
       "      <th>2</th>\n",
       "      <td>7.35</td>\n",
       "      <td>8.8500</td>\n",
       "      <td>/home/student/keropyan/data/iemocap/Session1/s...</td>\n",
       "      <td>fru</td>\n",
       "      <td>1</td>\n",
       "      <td>F</td>\n",
       "      <td>1.5000</td>\n",
       "    </tr>\n",
       "    <tr>\n",
       "      <th>3</th>\n",
       "      <td>9.20</td>\n",
       "      <td>13.0200</td>\n",
       "      <td>/home/student/keropyan/data/iemocap/Session1/s...</td>\n",
       "      <td>fru</td>\n",
       "      <td>1</td>\n",
       "      <td>F</td>\n",
       "      <td>3.8200</td>\n",
       "    </tr>\n",
       "    <tr>\n",
       "      <th>4</th>\n",
       "      <td>13.04</td>\n",
       "      <td>22.7400</td>\n",
       "      <td>/home/student/keropyan/data/iemocap/Session1/s...</td>\n",
       "      <td>fru</td>\n",
       "      <td>1</td>\n",
       "      <td>F</td>\n",
       "      <td>9.7000</td>\n",
       "    </tr>\n",
       "    <tr>\n",
       "      <th>...</th>\n",
       "      <td>...</td>\n",
       "      <td>...</td>\n",
       "      <td>...</td>\n",
       "      <td>...</td>\n",
       "      <td>...</td>\n",
       "      <td>...</td>\n",
       "      <td>...</td>\n",
       "    </tr>\n",
       "    <tr>\n",
       "      <th>10032</th>\n",
       "      <td>323.43</td>\n",
       "      <td>326.7100</td>\n",
       "      <td>/home/student/keropyan/data/iemocap/Session5/s...</td>\n",
       "      <td>ang</td>\n",
       "      <td>5</td>\n",
       "      <td>M</td>\n",
       "      <td>3.2800</td>\n",
       "    </tr>\n",
       "    <tr>\n",
       "      <th>10033</th>\n",
       "      <td>327.03</td>\n",
       "      <td>337.6500</td>\n",
       "      <td>/home/student/keropyan/data/iemocap/Session5/s...</td>\n",
       "      <td>ang</td>\n",
       "      <td>5</td>\n",
       "      <td>M</td>\n",
       "      <td>10.6200</td>\n",
       "    </tr>\n",
       "    <tr>\n",
       "      <th>10036</th>\n",
       "      <td>360.78</td>\n",
       "      <td>366.1200</td>\n",
       "      <td>/home/student/keropyan/data/iemocap/Session5/s...</td>\n",
       "      <td>fru</td>\n",
       "      <td>5</td>\n",
       "      <td>M</td>\n",
       "      <td>5.3400</td>\n",
       "    </tr>\n",
       "    <tr>\n",
       "      <th>10037</th>\n",
       "      <td>367.03</td>\n",
       "      <td>369.6377</td>\n",
       "      <td>/home/student/keropyan/data/iemocap/Session5/s...</td>\n",
       "      <td>ang</td>\n",
       "      <td>5</td>\n",
       "      <td>M</td>\n",
       "      <td>2.6077</td>\n",
       "    </tr>\n",
       "    <tr>\n",
       "      <th>10038</th>\n",
       "      <td>372.59</td>\n",
       "      <td>377.3700</td>\n",
       "      <td>/home/student/keropyan/data/iemocap/Session5/s...</td>\n",
       "      <td>ang</td>\n",
       "      <td>5</td>\n",
       "      <td>M</td>\n",
       "      <td>4.7800</td>\n",
       "    </tr>\n",
       "  </tbody>\n",
       "</table>\n",
       "<p>7532 rows × 7 columns</p>\n",
       "</div>"
      ],
      "text/plain": [
       "       start_time  end_time  \\\n",
       "0            4.24    5.2300   \n",
       "1            5.26    7.1600   \n",
       "2            7.35    8.8500   \n",
       "3            9.20   13.0200   \n",
       "4           13.04   22.7400   \n",
       "...           ...       ...   \n",
       "10032      323.43  326.7100   \n",
       "10033      327.03  337.6500   \n",
       "10036      360.78  366.1200   \n",
       "10037      367.03  369.6377   \n",
       "10038      372.59  377.3700   \n",
       "\n",
       "                                               file_path emotion  session sex  \\\n",
       "0      /home/student/keropyan/data/iemocap/Session1/s...     fru        1   F   \n",
       "1      /home/student/keropyan/data/iemocap/Session1/s...     fru        1   F   \n",
       "2      /home/student/keropyan/data/iemocap/Session1/s...     fru        1   F   \n",
       "3      /home/student/keropyan/data/iemocap/Session1/s...     fru        1   F   \n",
       "4      /home/student/keropyan/data/iemocap/Session1/s...     fru        1   F   \n",
       "...                                                  ...     ...      ...  ..   \n",
       "10032  /home/student/keropyan/data/iemocap/Session5/s...     ang        5   M   \n",
       "10033  /home/student/keropyan/data/iemocap/Session5/s...     ang        5   M   \n",
       "10036  /home/student/keropyan/data/iemocap/Session5/s...     fru        5   M   \n",
       "10037  /home/student/keropyan/data/iemocap/Session5/s...     ang        5   M   \n",
       "10038  /home/student/keropyan/data/iemocap/Session5/s...     ang        5   M   \n",
       "\n",
       "        length  \n",
       "0       0.9900  \n",
       "1       1.9000  \n",
       "2       1.5000  \n",
       "3       3.8200  \n",
       "4       9.7000  \n",
       "...        ...  \n",
       "10032   3.2800  \n",
       "10033  10.6200  \n",
       "10036   5.3400  \n",
       "10037   2.6077  \n",
       "10038   4.7800  \n",
       "\n",
       "[7532 rows x 7 columns]"
      ]
     },
     "execution_count": 12,
     "metadata": {},
     "output_type": "execute_result"
    }
   ],
   "source": [
    "df_iemocap"
   ]
  },
  {
   "cell_type": "code",
   "execution_count": 13,
   "metadata": {},
   "outputs": [],
   "source": [
    "df_iemocap.to_csv('../data/preprocessed_data/filtered_emotions_paths/df_iemocap.csv', index=False)\n",
    "df_ravdess.to_csv('../data/preprocessed_data/filtered_emotions_paths/df_ravdess.csv', index=False)\n",
    "df_enterface.to_csv('../data/preprocessed_data/filtered_emotions_paths/df_enterface.csv', index=False)"
   ]
  },
  {
   "cell_type": "code",
   "execution_count": 2,
   "metadata": {},
   "outputs": [],
   "source": [
    "df_iemocap = pd.read_csv('../data/preprocessed_data/filtered_emotions_paths/df_iemocap.csv')\n",
    "df_ravdess = pd.read_csv('../data/preprocessed_data/filtered_emotions_paths/df_ravdess.csv')\n",
    "df_enterface = pd.read_csv('../data/preprocessed_data/filtered_emotions_paths/df_enterface.csv')"
   ]
  },
  {
   "cell_type": "code",
   "execution_count": 3,
   "metadata": {},
   "outputs": [],
   "source": [
    "lns = list(df_iemocap.length)\n",
    "lns.extend(df_ravdess.length)\n",
    "lns.extend(df_enterface.length)"
   ]
  },
  {
   "cell_type": "code",
   "execution_count": 4,
   "metadata": {},
   "outputs": [
    {
     "data": {
      "text/plain": [
       "10067"
      ]
     },
     "execution_count": 4,
     "metadata": {},
     "output_type": "execute_result"
    }
   ],
   "source": [
    "len(lns)"
   ]
  },
  {
   "cell_type": "code",
   "execution_count": 5,
   "metadata": {},
   "outputs": [
    {
     "data": {
      "text/plain": [
       "42608.116699999955"
      ]
     },
     "execution_count": 5,
     "metadata": {},
     "output_type": "execute_result"
    }
   ],
   "source": [
    "sum(lns)"
   ]
  },
  {
   "cell_type": "code",
   "execution_count": 20,
   "metadata": {
    "scrolled": true
   },
   "outputs": [
    {
     "data": {
      "text/plain": [
       "3785"
      ]
     },
     "execution_count": 20,
     "metadata": {},
     "output_type": "execute_result"
    }
   ],
   "source": [
    "(np.array(lns) < 3).sum()"
   ]
  },
  {
   "cell_type": "markdown",
   "metadata": {},
   "source": [
    "## train test  split"
   ]
  },
  {
   "cell_type": "code",
   "execution_count": 27,
   "metadata": {},
   "outputs": [
    {
     "name": "stdout",
     "output_type": "stream",
     "text": [
      "<class 'pandas.core.frame.DataFrame'>\n",
      "RangeIndex: 1248 entries, 0 to 1247\n",
      "Data columns (total 5 columns):\n",
      " #   Column     Non-Null Count  Dtype  \n",
      "---  ------     --------------  -----  \n",
      " 0   file_path  1248 non-null   object \n",
      " 1   emotion    1248 non-null   object \n",
      " 2   actor      1248 non-null   int64  \n",
      " 3   sex        1248 non-null   object \n",
      " 4   length     1248 non-null   float64\n",
      "dtypes: float64(1), int64(1), object(3)\n",
      "memory usage: 48.9+ KB\n"
     ]
    }
   ],
   "source": [
    "df_ravdess.info()"
   ]
  },
  {
   "cell_type": "code",
   "execution_count": 28,
   "metadata": {},
   "outputs": [],
   "source": [
    "iemocap_train = df_iemocap[df_iemocap['session'] != 4][['file_path', 'emotion']]\n",
    "iemocap_test = df_iemocap[df_iemocap['session'] == 4][['file_path', 'emotion']]\n",
    "\n",
    "enterface_train = df_enterface[df_enterface['subject'] <= 36][['file_path', 'emotion']]\n",
    "enterface_test = df_enterface[df_enterface['subject'] > 36][['file_path', 'emotion']]\n",
    "\n",
    "ravdess_train = df_ravdess[df_ravdess['actor'] <= 20][['file_path', 'emotion']]\n",
    "ravdess_test = df_ravdess[df_ravdess['actor'] > 20][['file_path', 'emotion']]"
   ]
  },
  {
   "cell_type": "code",
   "execution_count": null,
   "metadata": {},
   "outputs": [],
   "source": []
  },
  {
   "cell_type": "code",
   "execution_count": 36,
   "metadata": {},
   "outputs": [],
   "source": [
    "train_paths = pd.concat([iemocap_train, enterface_train, ravdess_train])\n",
    "test_paths = pd.concat([iemocap_test, enterface_test, ravdess_test])"
   ]
  },
  {
   "cell_type": "code",
   "execution_count": 37,
   "metadata": {},
   "outputs": [
    {
     "data": {
      "text/html": [
       "<div>\n",
       "<style scoped>\n",
       "    .dataframe tbody tr th:only-of-type {\n",
       "        vertical-align: middle;\n",
       "    }\n",
       "\n",
       "    .dataframe tbody tr th {\n",
       "        vertical-align: top;\n",
       "    }\n",
       "\n",
       "    .dataframe thead th {\n",
       "        text-align: right;\n",
       "    }\n",
       "</style>\n",
       "<table border=\"1\" class=\"dataframe\">\n",
       "  <thead>\n",
       "    <tr style=\"text-align: right;\">\n",
       "      <th></th>\n",
       "      <th>file_path</th>\n",
       "      <th>emotion</th>\n",
       "    </tr>\n",
       "  </thead>\n",
       "  <tbody>\n",
       "    <tr>\n",
       "      <th>0</th>\n",
       "      <td>/home/student/keropyan/data/iemocap/Session1/s...</td>\n",
       "      <td>fru</td>\n",
       "    </tr>\n",
       "    <tr>\n",
       "      <th>1</th>\n",
       "      <td>/home/student/keropyan/data/iemocap/Session1/s...</td>\n",
       "      <td>fru</td>\n",
       "    </tr>\n",
       "    <tr>\n",
       "      <th>2</th>\n",
       "      <td>/home/student/keropyan/data/iemocap/Session1/s...</td>\n",
       "      <td>fru</td>\n",
       "    </tr>\n",
       "    <tr>\n",
       "      <th>3</th>\n",
       "      <td>/home/student/keropyan/data/iemocap/Session1/s...</td>\n",
       "      <td>fru</td>\n",
       "    </tr>\n",
       "    <tr>\n",
       "      <th>4</th>\n",
       "      <td>/home/student/keropyan/data/iemocap/Session1/s...</td>\n",
       "      <td>fru</td>\n",
       "    </tr>\n",
       "    <tr>\n",
       "      <th>...</th>\n",
       "      <td>...</td>\n",
       "      <td>...</td>\n",
       "    </tr>\n",
       "    <tr>\n",
       "      <th>1191</th>\n",
       "      <td>/home/student/keropyan/data/RAVDESS/Actor_01/0...</td>\n",
       "      <td>oth</td>\n",
       "    </tr>\n",
       "    <tr>\n",
       "      <th>1192</th>\n",
       "      <td>/home/student/keropyan/data/RAVDESS/Actor_01/0...</td>\n",
       "      <td>sad</td>\n",
       "    </tr>\n",
       "    <tr>\n",
       "      <th>1193</th>\n",
       "      <td>/home/student/keropyan/data/RAVDESS/Actor_01/0...</td>\n",
       "      <td>neu</td>\n",
       "    </tr>\n",
       "    <tr>\n",
       "      <th>1194</th>\n",
       "      <td>/home/student/keropyan/data/RAVDESS/Actor_01/0...</td>\n",
       "      <td>oth</td>\n",
       "    </tr>\n",
       "    <tr>\n",
       "      <th>1195</th>\n",
       "      <td>/home/student/keropyan/data/RAVDESS/Actor_01/0...</td>\n",
       "      <td>hap</td>\n",
       "    </tr>\n",
       "  </tbody>\n",
       "</table>\n",
       "<p>8080 rows × 2 columns</p>\n",
       "</div>"
      ],
      "text/plain": [
       "                                              file_path emotion\n",
       "0     /home/student/keropyan/data/iemocap/Session1/s...     fru\n",
       "1     /home/student/keropyan/data/iemocap/Session1/s...     fru\n",
       "2     /home/student/keropyan/data/iemocap/Session1/s...     fru\n",
       "3     /home/student/keropyan/data/iemocap/Session1/s...     fru\n",
       "4     /home/student/keropyan/data/iemocap/Session1/s...     fru\n",
       "...                                                 ...     ...\n",
       "1191  /home/student/keropyan/data/RAVDESS/Actor_01/0...     oth\n",
       "1192  /home/student/keropyan/data/RAVDESS/Actor_01/0...     sad\n",
       "1193  /home/student/keropyan/data/RAVDESS/Actor_01/0...     neu\n",
       "1194  /home/student/keropyan/data/RAVDESS/Actor_01/0...     oth\n",
       "1195  /home/student/keropyan/data/RAVDESS/Actor_01/0...     hap\n",
       "\n",
       "[8080 rows x 2 columns]"
      ]
     },
     "execution_count": 37,
     "metadata": {},
     "output_type": "execute_result"
    }
   ],
   "source": [
    "train_paths"
   ]
  },
  {
   "cell_type": "code",
   "execution_count": 38,
   "metadata": {},
   "outputs": [
    {
     "data": {
      "text/html": [
       "<div>\n",
       "<style scoped>\n",
       "    .dataframe tbody tr th:only-of-type {\n",
       "        vertical-align: middle;\n",
       "    }\n",
       "\n",
       "    .dataframe tbody tr th {\n",
       "        vertical-align: top;\n",
       "    }\n",
       "\n",
       "    .dataframe thead th {\n",
       "        text-align: right;\n",
       "    }\n",
       "</style>\n",
       "<table border=\"1\" class=\"dataframe\">\n",
       "  <thead>\n",
       "    <tr style=\"text-align: right;\">\n",
       "      <th></th>\n",
       "      <th>file_path</th>\n",
       "      <th>emotion</th>\n",
       "    </tr>\n",
       "  </thead>\n",
       "  <tbody>\n",
       "    <tr>\n",
       "      <th>4343</th>\n",
       "      <td>/home/student/keropyan/data/iemocap/Session4/s...</td>\n",
       "      <td>neu</td>\n",
       "    </tr>\n",
       "    <tr>\n",
       "      <th>4344</th>\n",
       "      <td>/home/student/keropyan/data/iemocap/Session4/s...</td>\n",
       "      <td>ang</td>\n",
       "    </tr>\n",
       "    <tr>\n",
       "      <th>4345</th>\n",
       "      <td>/home/student/keropyan/data/iemocap/Session4/s...</td>\n",
       "      <td>ang</td>\n",
       "    </tr>\n",
       "    <tr>\n",
       "      <th>4346</th>\n",
       "      <td>/home/student/keropyan/data/iemocap/Session4/s...</td>\n",
       "      <td>ang</td>\n",
       "    </tr>\n",
       "    <tr>\n",
       "      <th>4347</th>\n",
       "      <td>/home/student/keropyan/data/iemocap/Session4/s...</td>\n",
       "      <td>fru</td>\n",
       "    </tr>\n",
       "    <tr>\n",
       "      <th>...</th>\n",
       "      <td>...</td>\n",
       "      <td>...</td>\n",
       "    </tr>\n",
       "    <tr>\n",
       "      <th>1243</th>\n",
       "      <td>/home/student/keropyan/data/RAVDESS/Actor_24/0...</td>\n",
       "      <td>ang</td>\n",
       "    </tr>\n",
       "    <tr>\n",
       "      <th>1244</th>\n",
       "      <td>/home/student/keropyan/data/RAVDESS/Actor_24/0...</td>\n",
       "      <td>oth</td>\n",
       "    </tr>\n",
       "    <tr>\n",
       "      <th>1245</th>\n",
       "      <td>/home/student/keropyan/data/RAVDESS/Actor_24/0...</td>\n",
       "      <td>neu</td>\n",
       "    </tr>\n",
       "    <tr>\n",
       "      <th>1246</th>\n",
       "      <td>/home/student/keropyan/data/RAVDESS/Actor_24/0...</td>\n",
       "      <td>neu</td>\n",
       "    </tr>\n",
       "    <tr>\n",
       "      <th>1247</th>\n",
       "      <td>/home/student/keropyan/data/RAVDESS/Actor_24/0...</td>\n",
       "      <td>hap</td>\n",
       "    </tr>\n",
       "  </tbody>\n",
       "</table>\n",
       "<p>1987 rows × 2 columns</p>\n",
       "</div>"
      ],
      "text/plain": [
       "                                              file_path emotion\n",
       "4343  /home/student/keropyan/data/iemocap/Session4/s...     neu\n",
       "4344  /home/student/keropyan/data/iemocap/Session4/s...     ang\n",
       "4345  /home/student/keropyan/data/iemocap/Session4/s...     ang\n",
       "4346  /home/student/keropyan/data/iemocap/Session4/s...     ang\n",
       "4347  /home/student/keropyan/data/iemocap/Session4/s...     fru\n",
       "...                                                 ...     ...\n",
       "1243  /home/student/keropyan/data/RAVDESS/Actor_24/0...     ang\n",
       "1244  /home/student/keropyan/data/RAVDESS/Actor_24/0...     oth\n",
       "1245  /home/student/keropyan/data/RAVDESS/Actor_24/0...     neu\n",
       "1246  /home/student/keropyan/data/RAVDESS/Actor_24/0...     neu\n",
       "1247  /home/student/keropyan/data/RAVDESS/Actor_24/0...     hap\n",
       "\n",
       "[1987 rows x 2 columns]"
      ]
     },
     "execution_count": 38,
     "metadata": {},
     "output_type": "execute_result"
    }
   ],
   "source": [
    "test_paths"
   ]
  },
  {
   "cell_type": "code",
   "execution_count": 39,
   "metadata": {},
   "outputs": [],
   "source": [
    "train_paths.to_csv('../data/preprocessed_data/filtered_emotions_paths/train_paths.csv', index=False)\n",
    "test_paths.to_csv('../data/preprocessed_data/filtered_emotions_paths/test_paths.csv', index=False)"
   ]
  },
  {
   "cell_type": "code",
   "execution_count": null,
   "metadata": {},
   "outputs": [],
   "source": []
  },
  {
   "cell_type": "code",
   "execution_count": null,
   "metadata": {},
   "outputs": [],
   "source": []
  },
  {
   "cell_type": "code",
   "execution_count": null,
   "metadata": {},
   "outputs": [],
   "source": []
  }
 ],
 "metadata": {
  "kernelspec": {
   "display_name": "ml1",
   "language": "python",
   "name": "ml1"
  },
  "language_info": {
   "codemirror_mode": {
    "name": "ipython",
    "version": 3
   },
   "file_extension": ".py",
   "mimetype": "text/x-python",
   "name": "python",
   "nbconvert_exporter": "python",
   "pygments_lexer": "ipython3",
   "version": "3.7.7"
  }
 },
 "nbformat": 4,
 "nbformat_minor": 4
}
